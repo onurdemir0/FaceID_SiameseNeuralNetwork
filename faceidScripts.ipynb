{
 "cells": [
  {
   "cell_type": "code",
   "execution_count": 3,
   "id": "988cdc55-ba4c-49b6-b33a-01fe9bfbceb3",
   "metadata": {
    "collapsed": true,
    "jupyter": {
     "outputs_hidden": true
    },
    "tags": []
   },
   "outputs": [
    {
     "name": "stdout",
     "output_type": "stream",
     "text": [
      "Requirement already satisfied: tensorflow in c:\\users\\mdp\\anaconda3\\lib\\site-packages (2.8.0)\n",
      "Requirement already satisfied: libclang>=9.0.1 in c:\\users\\mdp\\anaconda3\\lib\\site-packages (from tensorflow) (13.0.0)\n",
      "Requirement already satisfied: h5py>=2.9.0 in c:\\users\\mdp\\anaconda3\\lib\\site-packages (from tensorflow) (3.2.1)\n",
      "Requirement already satisfied: keras-preprocessing>=1.1.1 in c:\\users\\mdp\\anaconda3\\lib\\site-packages (from tensorflow) (1.1.2)\n",
      "Requirement already satisfied: tensorboard<2.9,>=2.8 in c:\\users\\mdp\\anaconda3\\lib\\site-packages (from tensorflow) (2.8.0)\n",
      "Requirement already satisfied: absl-py>=0.4.0 in c:\\users\\mdp\\anaconda3\\lib\\site-packages (from tensorflow) (1.0.0)\n",
      "Requirement already satisfied: six>=1.12.0 in c:\\users\\mdp\\anaconda3\\lib\\site-packages (from tensorflow) (1.16.0)\n",
      "Requirement already satisfied: typing-extensions>=3.6.6 in c:\\users\\mdp\\anaconda3\\lib\\site-packages (from tensorflow) (3.10.0.2)\n",
      "Requirement already satisfied: grpcio<2.0,>=1.24.3 in c:\\users\\mdp\\anaconda3\\lib\\site-packages (from tensorflow) (1.44.0)\n",
      "Requirement already satisfied: gast>=0.2.1 in c:\\users\\mdp\\anaconda3\\lib\\site-packages (from tensorflow) (0.5.3)\n",
      "Requirement already satisfied: wrapt>=1.11.0 in c:\\users\\mdp\\anaconda3\\lib\\site-packages (from tensorflow) (1.12.1)\n",
      "Requirement already satisfied: tensorflow-io-gcs-filesystem>=0.23.1 in c:\\users\\mdp\\anaconda3\\lib\\site-packages (from tensorflow) (0.24.0)\n",
      "Requirement already satisfied: google-pasta>=0.1.1 in c:\\users\\mdp\\anaconda3\\lib\\site-packages (from tensorflow) (0.2.0)\n",
      "Requirement already satisfied: protobuf>=3.9.2 in c:\\users\\mdp\\anaconda3\\lib\\site-packages (from tensorflow) (3.19.4)\n",
      "Requirement already satisfied: flatbuffers>=1.12 in c:\\users\\mdp\\anaconda3\\lib\\site-packages (from tensorflow) (2.0)\n",
      "Requirement already satisfied: astunparse>=1.6.0 in c:\\users\\mdp\\anaconda3\\lib\\site-packages (from tensorflow) (1.6.3)\n",
      "Requirement already satisfied: numpy>=1.20 in c:\\users\\mdp\\anaconda3\\lib\\site-packages (from tensorflow) (1.20.3)\n",
      "Requirement already satisfied: setuptools in c:\\users\\mdp\\anaconda3\\lib\\site-packages (from tensorflow) (58.0.4)\n",
      "Requirement already satisfied: tf-estimator-nightly==2.8.0.dev2021122109 in c:\\users\\mdp\\anaconda3\\lib\\site-packages (from tensorflow) (2.8.0.dev2021122109)\n",
      "Requirement already satisfied: keras<2.9,>=2.8.0rc0 in c:\\users\\mdp\\anaconda3\\lib\\site-packages (from tensorflow) (2.8.0)\n",
      "Requirement already satisfied: opt-einsum>=2.3.2 in c:\\users\\mdp\\anaconda3\\lib\\site-packages (from tensorflow) (3.3.0)\n",
      "Requirement already satisfied: termcolor>=1.1.0 in c:\\users\\mdp\\anaconda3\\lib\\site-packages (from tensorflow) (1.1.0)\n",
      "Requirement already satisfied: wheel<1.0,>=0.23.0 in c:\\users\\mdp\\anaconda3\\lib\\site-packages (from astunparse>=1.6.0->tensorflow) (0.37.0)\n",
      "Requirement already satisfied: tensorboard-data-server<0.7.0,>=0.6.0 in c:\\users\\mdp\\anaconda3\\lib\\site-packages (from tensorboard<2.9,>=2.8->tensorflow) (0.6.1)\n",
      "Requirement already satisfied: markdown>=2.6.8 in c:\\users\\mdp\\anaconda3\\lib\\site-packages (from tensorboard<2.9,>=2.8->tensorflow) (3.3.6)\n",
      "Requirement already satisfied: requests<3,>=2.21.0 in c:\\users\\mdp\\anaconda3\\lib\\site-packages (from tensorboard<2.9,>=2.8->tensorflow) (2.26.0)\n",
      "Requirement already satisfied: google-auth-oauthlib<0.5,>=0.4.1 in c:\\users\\mdp\\anaconda3\\lib\\site-packages (from tensorboard<2.9,>=2.8->tensorflow) (0.4.6)\n",
      "Requirement already satisfied: google-auth<3,>=1.6.3 in c:\\users\\mdp\\anaconda3\\lib\\site-packages (from tensorboard<2.9,>=2.8->tensorflow) (2.6.0)\n",
      "Requirement already satisfied: tensorboard-plugin-wit>=1.6.0 in c:\\users\\mdp\\anaconda3\\lib\\site-packages (from tensorboard<2.9,>=2.8->tensorflow) (1.8.1)\n",
      "Requirement already satisfied: werkzeug>=0.11.15 in c:\\users\\mdp\\anaconda3\\lib\\site-packages (from tensorboard<2.9,>=2.8->tensorflow) (2.0.2)\n",
      "Requirement already satisfied: cachetools<6.0,>=2.0.0 in c:\\users\\mdp\\anaconda3\\lib\\site-packages (from google-auth<3,>=1.6.3->tensorboard<2.9,>=2.8->tensorflow) (5.0.0)\n",
      "Requirement already satisfied: rsa<5,>=3.1.4 in c:\\users\\mdp\\anaconda3\\lib\\site-packages (from google-auth<3,>=1.6.3->tensorboard<2.9,>=2.8->tensorflow) (4.8)\n",
      "Requirement already satisfied: pyasn1-modules>=0.2.1 in c:\\users\\mdp\\anaconda3\\lib\\site-packages (from google-auth<3,>=1.6.3->tensorboard<2.9,>=2.8->tensorflow) (0.2.8)\n",
      "Requirement already satisfied: requests-oauthlib>=0.7.0 in c:\\users\\mdp\\anaconda3\\lib\\site-packages (from google-auth-oauthlib<0.5,>=0.4.1->tensorboard<2.9,>=2.8->tensorflow) (1.3.1)\n",
      "Requirement already satisfied: importlib-metadata>=4.4 in c:\\users\\mdp\\anaconda3\\lib\\site-packages (from markdown>=2.6.8->tensorboard<2.9,>=2.8->tensorflow) (4.8.1)\n",
      "Requirement already satisfied: zipp>=0.5 in c:\\users\\mdp\\anaconda3\\lib\\site-packages (from importlib-metadata>=4.4->markdown>=2.6.8->tensorboard<2.9,>=2.8->tensorflow) (3.6.0)\n",
      "Requirement already satisfied: pyasn1<0.5.0,>=0.4.6 in c:\\users\\mdp\\anaconda3\\lib\\site-packages (from pyasn1-modules>=0.2.1->google-auth<3,>=1.6.3->tensorboard<2.9,>=2.8->tensorflow) (0.4.8)\n",
      "Requirement already satisfied: certifi>=2017.4.17 in c:\\users\\mdp\\anaconda3\\lib\\site-packages (from requests<3,>=2.21.0->tensorboard<2.9,>=2.8->tensorflow) (2021.10.8)\n",
      "Requirement already satisfied: urllib3<1.27,>=1.21.1 in c:\\users\\mdp\\anaconda3\\lib\\site-packages (from requests<3,>=2.21.0->tensorboard<2.9,>=2.8->tensorflow) (1.26.7)\n",
      "Requirement already satisfied: idna<4,>=2.5 in c:\\users\\mdp\\anaconda3\\lib\\site-packages (from requests<3,>=2.21.0->tensorboard<2.9,>=2.8->tensorflow) (3.2)\n",
      "Requirement already satisfied: charset-normalizer~=2.0.0 in c:\\users\\mdp\\anaconda3\\lib\\site-packages (from requests<3,>=2.21.0->tensorboard<2.9,>=2.8->tensorflow) (2.0.4)\n",
      "Requirement already satisfied: oauthlib>=3.0.0 in c:\\users\\mdp\\anaconda3\\lib\\site-packages (from requests-oauthlib>=0.7.0->google-auth-oauthlib<0.5,>=0.4.1->tensorboard<2.9,>=2.8->tensorflow) (3.2.0)\n"
     ]
    }
   ],
   "source": [
    "!pip install tensorflow"
   ]
  },
  {
   "cell_type": "code",
   "execution_count": 5,
   "id": "2ee15cba-6a0c-48d4-ae74-e4428c84a564",
   "metadata": {
    "collapsed": true,
    "jupyter": {
     "outputs_hidden": true
    },
    "tags": []
   },
   "outputs": [
    {
     "name": "stdout",
     "output_type": "stream",
     "text": [
      "Collecting opencv-python\n",
      "  Downloading opencv_python-4.5.5.64-cp36-abi3-win_amd64.whl (35.4 MB)\n",
      "Requirement already satisfied: matplotlib in c:\\users\\mdp\\anaconda3\\lib\\site-packages (3.4.3)\n",
      "Requirement already satisfied: numpy>=1.14.5 in c:\\users\\mdp\\anaconda3\\lib\\site-packages (from opencv-python) (1.20.3)\n",
      "Requirement already satisfied: cycler>=0.10 in c:\\users\\mdp\\anaconda3\\lib\\site-packages (from matplotlib) (0.10.0)\n",
      "Requirement already satisfied: python-dateutil>=2.7 in c:\\users\\mdp\\anaconda3\\lib\\site-packages (from matplotlib) (2.8.2)\n",
      "Requirement already satisfied: pillow>=6.2.0 in c:\\users\\mdp\\anaconda3\\lib\\site-packages (from matplotlib) (8.4.0)\n",
      "Requirement already satisfied: kiwisolver>=1.0.1 in c:\\users\\mdp\\anaconda3\\lib\\site-packages (from matplotlib) (1.3.1)\n",
      "Requirement already satisfied: pyparsing>=2.2.1 in c:\\users\\mdp\\anaconda3\\lib\\site-packages (from matplotlib) (3.0.4)\n",
      "Requirement already satisfied: six in c:\\users\\mdp\\anaconda3\\lib\\site-packages (from cycler>=0.10->matplotlib) (1.16.0)\n",
      "Installing collected packages: opencv-python\n",
      "Successfully installed opencv-python-4.5.5.64\n"
     ]
    }
   ],
   "source": [
    "!pip install opencv-python matplotlib"
   ]
  },
  {
   "cell_type": "code",
   "execution_count": 1,
   "id": "724bc262-8bc2-4e8f-9bf3-bc40cd633535",
   "metadata": {},
   "outputs": [],
   "source": [
    "import cv2\n",
    "import os\n",
    "import random\n",
    "import numpy as np\n",
    "from matplotlib import pyplot as plt"
   ]
  },
  {
   "cell_type": "code",
   "execution_count": 2,
   "id": "71ca71cf-2351-4bf2-819f-dcf77ab3491d",
   "metadata": {},
   "outputs": [],
   "source": [
    "from tensorflow.keras.models import Model\n",
    "from tensorflow.keras.layers import Layer, Conv2D, Dense, MaxPooling2D, Input, Flatten\n",
    "import tensorflow as tf"
   ]
  },
  {
   "cell_type": "code",
   "execution_count": 3,
   "id": "09b358db-0f44-4d11-8711-c98126f6b60d",
   "metadata": {},
   "outputs": [],
   "source": [
    "gpus = tf.config.experimental.list_physical_devices('GPU')\n",
    "for gpu in gpus: \n",
    "    tf.config.experimental.set_memory_growth(gpu, True)"
   ]
  },
  {
   "cell_type": "code",
   "execution_count": 4,
   "id": "19dcebd2-f638-4b1d-bb39-730471820389",
   "metadata": {},
   "outputs": [],
   "source": [
    "# Setup paths\n",
    "POS_PATH = os.path.join('data', 'positive')\n",
    "NEG_PATH = os.path.join('data', 'negative')\n",
    "ANC_PATH = os.path.join('data', 'anchor')"
   ]
  },
  {
   "cell_type": "code",
   "execution_count": null,
   "id": "9790f4cd-7f5d-4057-9d48-51aaf89b2573",
   "metadata": {},
   "outputs": [],
   "source": [
    "os.makedirs(POS_PATH)\n",
    "os.makedirs(NEG_PATH)\n",
    "os.makedirs(ANC_PATH)"
   ]
  },
  {
   "cell_type": "code",
   "execution_count": 1,
   "id": "02be0c5b-6565-48f8-875a-a0ddc991953f",
   "metadata": {},
   "outputs": [],
   "source": [
    "# http://vis-www.cs.umass.edu/lfw/"
   ]
  },
  {
   "cell_type": "code",
   "execution_count": 13,
   "id": "47f4c363-21a2-458a-a79e-a41db0c67814",
   "metadata": {},
   "outputs": [],
   "source": [
    "# Uncompress Tar GZ Labelled Faces in the Wild Dataset\n",
    "!tar -xf lfw.tgz"
   ]
  },
  {
   "cell_type": "code",
   "execution_count": 8,
   "id": "f4c96280-6494-43e1-8932-e870f3907f81",
   "metadata": {},
   "outputs": [],
   "source": [
    "# Move LFW Images to the following repository data/negative\n",
    "\n",
    "for directory in os.listdir('lfw'):\n",
    "    for file in os.listdir(os.path.join('lfw', directory)):\n",
    "        EX_PATH = os.path.join('lfw', directory, file)\n",
    "        NEW_PATH = os.path.join(NEG_PATH, file)\n",
    "        os.replace(EX_PATH, NEW_PATH)"
   ]
  },
  {
   "cell_type": "code",
   "execution_count": 5,
   "id": "e22655b4-8402-474b-875f-4bacf63bc40e",
   "metadata": {},
   "outputs": [],
   "source": [
    "import uuid"
   ]
  },
  {
   "cell_type": "code",
   "execution_count": 6,
   "id": "64c48ea9-f7ad-47f0-81c7-7aef62ea8ec4",
   "metadata": {},
   "outputs": [
    {
     "data": {
      "text/plain": [
       "'data\\\\anchor\\\\5e4b247a-d793-11ec-b5e5-aced5c6c25d6.jpg'"
      ]
     },
     "execution_count": 6,
     "metadata": {},
     "output_type": "execute_result"
    }
   ],
   "source": [
    "os.path.join(ANC_PATH, '{}.jpg'.format(uuid.uuid1()))"
   ]
  },
  {
   "cell_type": "code",
   "execution_count": 95,
   "id": "8ebe508b-abcc-4097-acaa-53df18204f7c",
   "metadata": {},
   "outputs": [],
   "source": [
    "# Establish a connection to the webcam\n",
    "cap = cv2.VideoCapture(0)\n",
    "while cap.isOpened(): \n",
    "    ret, frame = cap.read()\n",
    "   \n",
    "    frame = frame[120:120+250,200:200+250, :]\n",
    "    \n",
    "    if cv2.waitKey(1) & 0XFF == ord('a'):\n",
    "        imgname = os.path.join(ANC_PATH, '{}.jpg'.format(uuid.uuid1()))\n",
    "        cv2.imwrite(imgname, frame)\n",
    "    \n",
    "    if cv2.waitKey(1) & 0XFF == ord('p'):\n",
    "        imgname = os.path.join(POS_PATH, '{}.jpg'.format(uuid.uuid1()))\n",
    "        cv2.imwrite(imgname, frame)\n",
    "    \n",
    "    cv2.imshow('Image Collection', frame)\n",
    "    \n",
    "    if cv2.waitKey(1) & 0XFF == ord('q'):\n",
    "        break\n",
    "        \n",
    "cap.release()\n",
    "cv2.destroyAllWindows()"
   ]
  },
  {
   "cell_type": "code",
   "execution_count": 208,
   "id": "b999b38f-7f58-43bc-9437-1470863331f1",
   "metadata": {
    "tags": []
   },
   "outputs": [
    {
     "data": {
      "text/plain": [
       "<matplotlib.image.AxesImage at 0x2a583a19fa0>"
      ]
     },
     "execution_count": 208,
     "metadata": {},
     "output_type": "execute_result"
    },
    {
     "data": {
      "image/png": "[encoded data removed]",
      "text/plain": [
       "<Figure size 432x288 with 1 Axes>"
      ]
     },
     "metadata": {
      "needs_background": "light"
     },
     "output_type": "display_data"
    }
   ],
   "source": [
    "plt.imshow(frame)"
   ]
  },
  {
   "cell_type": "code",
   "execution_count": 7,
   "id": "945a4517-9921-4851-9f93-4f41e997a398",
   "metadata": {},
   "outputs": [],
   "source": [
    "anchor = tf.data.Dataset.list_files(ANC_PATH+'\\*.jpg').take(50)\n",
    "positive = tf.data.Dataset.list_files(POS_PATH+'\\*.jpg').take(50)\n",
    "negative = tf.data.Dataset.list_files(NEG_PATH+'\\*.jpg').take(50)"
   ]
  },
  {
   "cell_type": "code",
   "execution_count": 8,
   "id": "40e25adf-7f60-4f5d-b68f-58f10d659f11",
   "metadata": {},
   "outputs": [],
   "source": [
    "dir_test = anchor.as_numpy_iterator()"
   ]
  },
  {
   "cell_type": "code",
   "execution_count": 9,
   "id": "7b800da7-b6de-43df-8545-53cd96fee229",
   "metadata": {},
   "outputs": [
    {
     "name": "stdout",
     "output_type": "stream",
     "text": [
      "b'data\\\\anchor\\\\075ecac4-d771-11ec-854c-aced5c6c25d6.jpg'\n"
     ]
    }
   ],
   "source": [
    "print(dir_test.next())"
   ]
  },
  {
   "cell_type": "code",
   "execution_count": 10,
   "id": "0a6ad5f8-fa4b-4660-9878-4d048735602e",
   "metadata": {},
   "outputs": [],
   "source": [
    "def preprocess(file_path):\n",
    "    \n",
    "    # Read in image from file path\n",
    "    byte_img = tf.io.read_file(file_path)\n",
    "    # Load in the image \n",
    "    img = tf.io.decode_jpeg(byte_img)\n",
    "    \n",
    "    # Preprocessing steps - resizing the image to be 100x100x3\n",
    "    img = tf.image.resize(img, (100,100))\n",
    "    # Scale image to be between 0 and 1 \n",
    "    img = img / 255.0\n",
    "    \n",
    "    # Return image\n",
    "    return img"
   ]
  },
  {
   "cell_type": "code",
   "execution_count": 11,
   "id": "351ec811-25b5-4814-ae90-a22dd598ff1e",
   "metadata": {
    "tags": []
   },
   "outputs": [
    {
     "data": {
      "text/plain": [
       "<tf.Tensor: shape=(100, 100, 3), dtype=float32, numpy=\n",
       "array([[[0.67058825, 0.6666667 , 0.6509804 ],\n",
       "        [0.67058825, 0.6666667 , 0.64705884],\n",
       "        [0.6745098 , 0.67058825, 0.6509804 ],\n",
       "        ...,\n",
       "        [0.76862746, 0.75392157, 0.74019605],\n",
       "        [0.76862746, 0.75686276, 0.7372549 ],\n",
       "        [0.76862746, 0.75686276, 0.7372549 ]],\n",
       "\n",
       "       [[0.67058825, 0.6666667 , 0.6509804 ],\n",
       "        [0.6723039 , 0.66838235, 0.6526961 ],\n",
       "        [0.6752451 , 0.67132354, 0.65343136],\n",
       "        ...,\n",
       "        [0.76862746, 0.75686276, 0.7352941 ],\n",
       "        [0.76862746, 0.75686276, 0.7352941 ],\n",
       "        [0.76862746, 0.75686276, 0.7352941 ]],\n",
       "\n",
       "       [[0.6735294 , 0.6696078 , 0.65392154],\n",
       "        [0.6745098 , 0.67058825, 0.654902  ],\n",
       "        [0.6784314 , 0.6745098 , 0.65882355],\n",
       "        ...,\n",
       "        [0.76862746, 0.75686276, 0.7294118 ],\n",
       "        [0.76862746, 0.75686276, 0.7294118 ],\n",
       "        [0.76862746, 0.75686276, 0.7294118 ]],\n",
       "\n",
       "       ...,\n",
       "\n",
       "       [[0.67745095, 0.6852941 , 0.66568625],\n",
       "        [0.68235296, 0.6901961 , 0.67058825],\n",
       "        [0.6882353 , 0.6931372 , 0.6735294 ],\n",
       "        ...,\n",
       "        [0.7379902 , 0.74191177, 0.71936274],\n",
       "        [0.7411765 , 0.74509805, 0.722549  ],\n",
       "        [0.74509805, 0.7490196 , 0.7264706 ]],\n",
       "\n",
       "       [[0.6745098 , 0.68235296, 0.66862744],\n",
       "        [0.6786765 , 0.6865196 , 0.67132354],\n",
       "        [0.6845588 , 0.6894608 , 0.6698529 ],\n",
       "        ...,\n",
       "        [0.7372549 , 0.7411765 , 0.72156864],\n",
       "        [0.7404412 , 0.7443628 , 0.7247549 ],\n",
       "        [0.74191177, 0.74583334, 0.7262255 ]],\n",
       "\n",
       "       [[0.6784314 , 0.6862745 , 0.6745098 ],\n",
       "        [0.6784314 , 0.6862745 , 0.672549  ],\n",
       "        [0.6784314 , 0.6862745 , 0.6666667 ],\n",
       "        ...,\n",
       "        [0.73333335, 0.7372549 , 0.7176471 ],\n",
       "        [0.7370098 , 0.7409314 , 0.72132355],\n",
       "        [0.74313724, 0.7470588 , 0.72745097]]], dtype=float32)>"
      ]
     },
     "execution_count": 11,
     "metadata": {},
     "output_type": "execute_result"
    }
   ],
   "source": [
    "img = preprocess('data\\\\anchor\\\\8b68ed49-d787-11ec-b5a0-aced5c6c25d6.jpg')\n",
    "img"
   ]
  },
  {
   "cell_type": "code",
   "execution_count": 12,
   "id": "acdcf572-dfa6-45ae-bcb4-dfcf3af017b7",
   "metadata": {},
   "outputs": [
    {
     "data": {
      "text/plain": [
       "1.0"
      ]
     },
     "execution_count": 12,
     "metadata": {},
     "output_type": "execute_result"
    }
   ],
   "source": [
    "img.numpy().max() "
   ]
  },
  {
   "cell_type": "code",
   "execution_count": 13,
   "id": "93631b62-3ecf-4c21-9c91-6954e6763422",
   "metadata": {
    "tags": []
   },
   "outputs": [
    {
     "data": {
      "text/plain": [
       "<matplotlib.image.AxesImage at 0x172b10f6dc0>"
      ]
     },
     "execution_count": 13,
     "metadata": {},
     "output_type": "execute_result"
    },
    {
     "data": {
      "image/png": "[encoded data removed]",
      "text/plain": [
       "<Figure size 432x288 with 1 Axes>"
      ]
     },
     "metadata": {
      "needs_background": "light"
     },
     "output_type": "display_data"
    }
   ],
   "source": [
    "plt.imshow(img)"
   ]
  },
  {
   "cell_type": "code",
   "execution_count": null,
   "id": "aea69c47-180e-4821-8afb-a05690b2c3ce",
   "metadata": {},
   "outputs": [],
   "source": [
    "dataset.map(preprocess)"
   ]
  },
  {
   "cell_type": "code",
   "execution_count": 14,
   "id": "fc18ee6f-a2a5-4c57-b1eb-62824b167b30",
   "metadata": {},
   "outputs": [],
   "source": [
    "# (anchor, positive) => 1,1,1,1,1\n",
    "# (anchor, negative) => 0,0,0,0,0"
   ]
  },
  {
   "cell_type": "code",
   "execution_count": 15,
   "id": "c1cb66ae-f36e-4588-ab63-79cf56a4fa6f",
   "metadata": {},
   "outputs": [],
   "source": [
    "positives = tf.data.Dataset.zip((anchor, positive, tf.data.Dataset.from_tensor_slices(tf.ones(len(anchor)))))\n",
    "negatives = tf.data.Dataset.zip((anchor, negative, tf.data.Dataset.from_tensor_slices(tf.zeros(len(anchor)))))\n",
    "data = positives.concatenate(negatives)"
   ]
  },
  {
   "cell_type": "code",
   "execution_count": 16,
   "id": "ac53f5d1-467b-40f0-bec7-56973971847f",
   "metadata": {},
   "outputs": [],
   "source": [
    "samples = data.as_numpy_iterator()"
   ]
  },
  {
   "cell_type": "code",
   "execution_count": 17,
   "id": "9bbded22-509f-48eb-8735-e14f464ad0ab",
   "metadata": {},
   "outputs": [],
   "source": [
    "exampple = samples.next()"
   ]
  },
  {
   "cell_type": "code",
   "execution_count": 18,
   "id": "60f6e3e5-8f2b-4adb-bb7f-9f52aab08361",
   "metadata": {},
   "outputs": [
    {
     "data": {
      "text/plain": [
       "(b'data\\\\anchor\\\\9eed8259-d787-11ec-a6bd-aced5c6c25d6.jpg',\n",
       " b'data\\\\positive\\\\bf637204-d787-11ec-bb74-aced5c6c25d6.jpg',\n",
       " 1.0)"
      ]
     },
     "execution_count": 18,
     "metadata": {},
     "output_type": "execute_result"
    }
   ],
   "source": [
    "exampple"
   ]
  },
  {
   "cell_type": "code",
   "execution_count": 19,
   "id": "4ace84dd-02ea-4626-8cc1-4bc55cc8a464",
   "metadata": {},
   "outputs": [],
   "source": [
    "def preprocess_twin(input_img, validation_img, label):\n",
    "    return(preprocess(input_img), preprocess(validation_img), label)"
   ]
  },
  {
   "cell_type": "code",
   "execution_count": 20,
   "id": "981c66ed-4dda-4822-9a9f-623d79f79328",
   "metadata": {},
   "outputs": [],
   "source": [
    "res = preprocess_twin(*exampple)"
   ]
  },
  {
   "cell_type": "code",
   "execution_count": 21,
   "id": "2f9efdd2-ac77-46eb-90dc-8d4d536b222d",
   "metadata": {
    "tags": []
   },
   "outputs": [
    {
     "data": {
      "text/plain": [
       "<matplotlib.image.AxesImage at 0x172b320fb50>"
      ]
     },
     "execution_count": 21,
     "metadata": {},
     "output_type": "execute_result"
    },
    {
     "data": {
      "image/png": "[encoded data removed]",
      "text/plain": [
       "<Figure size 432x288 with 1 Axes>"
      ]
     },
     "metadata": {
      "needs_background": "light"
     },
     "output_type": "display_data"
    }
   ],
   "source": [
    "plt.imshow(res[0])"
   ]
  },
  {
   "cell_type": "code",
   "execution_count": 22,
   "id": "da46195f-9860-4c9a-b3f9-a177b1d18c58",
   "metadata": {},
   "outputs": [
    {
     "data": {
      "text/plain": [
       "1.0"
      ]
     },
     "execution_count": 22,
     "metadata": {},
     "output_type": "execute_result"
    }
   ],
   "source": [
    "res[2]"
   ]
  },
  {
   "cell_type": "code",
   "execution_count": 23,
   "id": "160b0396-6595-4e50-b00f-bc0a0d863a3b",
   "metadata": {},
   "outputs": [],
   "source": [
    "# Build dataloader pipeline\n",
    "data = data.map(preprocess_twin)\n",
    "data = data.cache()\n",
    "data = data.shuffle(buffer_size=1024)"
   ]
  },
  {
   "cell_type": "code",
   "execution_count": 24,
   "id": "0285c35e-3e89-43a5-9e96-df35d3565eb1",
   "metadata": {},
   "outputs": [],
   "source": [
    "# Training partition\n",
    "train_data = data.take(round(len(data)*.7))\n",
    "train_data = train_data.batch(16)\n",
    "train_data = train_data.prefetch(8)"
   ]
  },
  {
   "cell_type": "code",
   "execution_count": 25,
   "id": "f1a6d4fe-2600-4a96-a26e-e04b551ac0d0",
   "metadata": {},
   "outputs": [],
   "source": [
    "# Testing partition\n",
    "test_data = data.skip(round(len(data)*.7))\n",
    "test_data = test_data.take(round(len(data)*.3))\n",
    "test_data = test_data.batch(16)\n",
    "test_data = test_data.prefetch(8)"
   ]
  },
  {
   "cell_type": "markdown",
   "id": "495946c6-7bb5-4014-9ec5-b031a68d6cfd",
   "metadata": {},
   "source": [
    "# MODEL"
   ]
  },
  {
   "cell_type": "markdown",
   "id": "b78131b8-2ef0-4949-9b7e-f2b77fdc57d8",
   "metadata": {
    "tags": []
   },
   "source": [
    "## Build Embedding Layer"
   ]
  },
  {
   "cell_type": "code",
   "execution_count": 26,
   "id": "9814e7c4-a658-4061-848c-d74b402b1676",
   "metadata": {},
   "outputs": [],
   "source": [
    "inp = Input(shape=(100,100,3), name='input_image')"
   ]
  },
  {
   "cell_type": "code",
   "execution_count": 27,
   "id": "3c04827c-d362-417c-9d4b-83d85593a35f",
   "metadata": {},
   "outputs": [],
   "source": [
    "c1 = Conv2D(64, (10,10), activation='relu')(inp)"
   ]
  },
  {
   "cell_type": "code",
   "execution_count": 28,
   "id": "9aede3d0-755b-457c-a535-a5f554c7a092",
   "metadata": {},
   "outputs": [],
   "source": [
    "m1 = MaxPooling2D(64, (2,2), padding='same')(c1)"
   ]
  },
  {
   "cell_type": "code",
   "execution_count": 29,
   "id": "177e1f62-789d-463d-aedc-7a6d8a948b44",
   "metadata": {},
   "outputs": [],
   "source": [
    "c2 = Conv2D(128, (7,7), activation='relu')(m1)\n",
    "m2 = MaxPooling2D(64, (2,2), padding='same')(c2)"
   ]
  },
  {
   "cell_type": "code",
   "execution_count": 30,
   "id": "cd48d53c-9a30-44d2-a93b-790eb301e73d",
   "metadata": {},
   "outputs": [],
   "source": [
    "c3 = Conv2D(128, (4,4), activation='relu')(m2)\n",
    "m3 = MaxPooling2D(64, (2,2), padding='same')(c3)"
   ]
  },
  {
   "cell_type": "code",
   "execution_count": 31,
   "id": "6869d2b0-c243-4043-bfc2-3c871801bc40",
   "metadata": {},
   "outputs": [],
   "source": [
    "c4 = Conv2D(256, (4,4), activation='relu')(m3)\n",
    "f1 = Flatten()(c4)\n",
    "d1 = Dense(4096, activation='sigmoid')(f1)"
   ]
  },
  {
   "cell_type": "code",
   "execution_count": 32,
   "id": "ad27494d-2649-47f4-a724-f8bc986de4d4",
   "metadata": {},
   "outputs": [],
   "source": [
    "mod = Model(inputs=[inp], outputs=[d1], name='embedding')"
   ]
  },
  {
   "cell_type": "code",
   "execution_count": 33,
   "id": "3cf9fc69-0cb0-48a2-b980-9c5e7a4f70a0",
   "metadata": {},
   "outputs": [
    {
     "name": "stdout",
     "output_type": "stream",
     "text": [
      "Model: \"embedding\"\n",
      "_________________________________________________________________\n",
      " Layer (type)                Output Shape              Param #   \n",
      "=================================================================\n",
      " input_image (InputLayer)    [(None, 100, 100, 3)]     0         \n",
      "                                                                 \n",
      " conv2d (Conv2D)             (None, 91, 91, 64)        19264     \n",
      "                                                                 \n",
      " max_pooling2d (MaxPooling2D  (None, 46, 46, 64)       0         \n",
      " )                                                               \n",
      "                                                                 \n",
      " conv2d_1 (Conv2D)           (None, 40, 40, 128)       401536    \n",
      "                                                                 \n",
      " max_pooling2d_1 (MaxPooling  (None, 20, 20, 128)      0         \n",
      " 2D)                                                             \n",
      "                                                                 \n",
      " conv2d_2 (Conv2D)           (None, 17, 17, 128)       262272    \n",
      "                                                                 \n",
      " max_pooling2d_2 (MaxPooling  (None, 9, 9, 128)        0         \n",
      " 2D)                                                             \n",
      "                                                                 \n",
      " conv2d_3 (Conv2D)           (None, 6, 6, 256)         524544    \n",
      "                                                                 \n",
      " flatten (Flatten)           (None, 9216)              0         \n",
      "                                                                 \n",
      " dense (Dense)               (None, 4096)              37752832  \n",
      "                                                                 \n",
      "=================================================================\n",
      "Total params: 38,960,448\n",
      "Trainable params: 38,960,448\n",
      "Non-trainable params: 0\n",
      "_________________________________________________________________\n"
     ]
    }
   ],
   "source": [
    "mod.summary()"
   ]
  },
  {
   "cell_type": "code",
   "execution_count": 34,
   "id": "cd8e0b4c-51d3-407e-bcf6-2e16226084ef",
   "metadata": {},
   "outputs": [],
   "source": [
    "def make_embedding(): \n",
    "    inp = Input(shape=(100,100,3), name='input_image')\n",
    "    \n",
    "    # First block\n",
    "    c1 = Conv2D(64, (10,10), activation='relu')(inp)\n",
    "    m1 = MaxPooling2D(64, (2,2), padding='same')(c1)\n",
    "    \n",
    "    # Second block\n",
    "    c2 = Conv2D(128, (7,7), activation='relu')(m1)\n",
    "    m2 = MaxPooling2D(64, (2,2), padding='same')(c2)\n",
    "    \n",
    "    # Third block \n",
    "    c3 = Conv2D(128, (4,4), activation='relu')(m2)\n",
    "    m3 = MaxPooling2D(64, (2,2), padding='same')(c3)\n",
    "    \n",
    "    # Final embedding block\n",
    "    c4 = Conv2D(256, (4,4), activation='relu')(m3)\n",
    "    f1 = Flatten()(c4)\n",
    "    d1 = Dense(4096, activation='sigmoid')(f1)\n",
    "    \n",
    "    \n",
    "    return Model(inputs=[inp], outputs=[d1], name='embedding')"
   ]
  },
  {
   "cell_type": "code",
   "execution_count": 35,
   "id": "6b324b61-58ef-48d4-b7d1-191cedda608c",
   "metadata": {},
   "outputs": [],
   "source": [
    "embedding = make_embedding()"
   ]
  },
  {
   "cell_type": "code",
   "execution_count": 36,
   "id": "6552b3d2-ebf4-4ab1-ae02-1433a8a56dd5",
   "metadata": {},
   "outputs": [
    {
     "name": "stdout",
     "output_type": "stream",
     "text": [
      "Model: \"embedding\"\n",
      "_________________________________________________________________\n",
      " Layer (type)                Output Shape              Param #   \n",
      "=================================================================\n",
      " input_image (InputLayer)    [(None, 100, 100, 3)]     0         \n",
      "                                                                 \n",
      " conv2d_4 (Conv2D)           (None, 91, 91, 64)        19264     \n",
      "                                                                 \n",
      " max_pooling2d_3 (MaxPooling  (None, 46, 46, 64)       0         \n",
      " 2D)                                                             \n",
      "                                                                 \n",
      " conv2d_5 (Conv2D)           (None, 40, 40, 128)       401536    \n",
      "                                                                 \n",
      " max_pooling2d_4 (MaxPooling  (None, 20, 20, 128)      0         \n",
      " 2D)                                                             \n",
      "                                                                 \n",
      " conv2d_6 (Conv2D)           (None, 17, 17, 128)       262272    \n",
      "                                                                 \n",
      " max_pooling2d_5 (MaxPooling  (None, 9, 9, 128)        0         \n",
      " 2D)                                                             \n",
      "                                                                 \n",
      " conv2d_7 (Conv2D)           (None, 6, 6, 256)         524544    \n",
      "                                                                 \n",
      " flatten_1 (Flatten)         (None, 9216)              0         \n",
      "                                                                 \n",
      " dense_1 (Dense)             (None, 4096)              37752832  \n",
      "                                                                 \n",
      "=================================================================\n",
      "Total params: 38,960,448\n",
      "Trainable params: 38,960,448\n",
      "Non-trainable params: 0\n",
      "_________________________________________________________________\n"
     ]
    }
   ],
   "source": [
    "embedding.summary()"
   ]
  },
  {
   "cell_type": "markdown",
   "id": "5202d287-7b66-4eaf-8eeb-5ec34f60d7c7",
   "metadata": {},
   "source": [
    "## Build Distance Layer"
   ]
  },
  {
   "cell_type": "code",
   "execution_count": 37,
   "id": "7b9eb697-88f3-44b1-b6cf-95097d0fbe95",
   "metadata": {},
   "outputs": [],
   "source": [
    "# Siamese L1 mesafe sınıfı\n",
    "class L1Dist(Layer):\n",
    "    \n",
    "    def __init__(self, **kwargs):\n",
    "        super().__init__()\n",
    "       \n",
    "    # similarity calculation\n",
    "    def call(self, input_embedding, validation_embedding):\n",
    "        return tf.math.abs(input_embedding - validation_embedding)"
   ]
  },
  {
   "cell_type": "code",
   "execution_count": 38,
   "id": "e92296ac-3819-4c65-a170-9376e1c9a676",
   "metadata": {},
   "outputs": [],
   "source": [
    "l1 = L1Dist()"
   ]
  },
  {
   "cell_type": "code",
   "execution_count": 39,
   "id": "50b69b93-abed-4165-b351-e7d26ed3cc9f",
   "metadata": {},
   "outputs": [
    {
     "data": {
      "text/plain": [
       "<__main__.L1Dist at 0x172b33e0070>"
      ]
     },
     "execution_count": 39,
     "metadata": {},
     "output_type": "execute_result"
    }
   ],
   "source": [
    "l1"
   ]
  },
  {
   "cell_type": "markdown",
   "id": "a85a91ad-2d5d-4a05-8d4e-2cc0eaca2874",
   "metadata": {},
   "source": [
    "## Siamese(Siyam) Model"
   ]
  },
  {
   "cell_type": "code",
   "execution_count": 40,
   "id": "9ff67765-946e-414a-81a2-7c011e150ccf",
   "metadata": {},
   "outputs": [],
   "source": [
    "input_image = Input(name='input_img', shape=(100,100,3))\n",
    "validation_image = Input(name='validation_img', shape=(100,100,3))"
   ]
  },
  {
   "cell_type": "code",
   "execution_count": 41,
   "id": "a6c19ad2-fcce-4719-937e-47c503e05a6c",
   "metadata": {},
   "outputs": [],
   "source": [
    "inp_embedding = embedding(input_image)\n",
    "val_embedding = embedding(validation_image)"
   ]
  },
  {
   "cell_type": "code",
   "execution_count": 42,
   "id": "81e72609-13f8-4b5f-81df-455344e156b1",
   "metadata": {},
   "outputs": [],
   "source": [
    "siamese_layer = L1Dist()"
   ]
  },
  {
   "cell_type": "code",
   "execution_count": 43,
   "id": "099f9e50-a926-4af2-ae7d-49322c1f8e1a",
   "metadata": {},
   "outputs": [],
   "source": [
    "distances = siamese_layer(inp_embedding, val_embedding)"
   ]
  },
  {
   "cell_type": "code",
   "execution_count": 44,
   "id": "e0f332c9-714c-46e5-91d0-7fbc77c13f21",
   "metadata": {},
   "outputs": [],
   "source": [
    "classifier = Dense(1, activation='sigmoid')(distances)"
   ]
  },
  {
   "cell_type": "code",
   "execution_count": 45,
   "id": "fca8c16a-1eb7-41ef-b891-76161e37bc68",
   "metadata": {},
   "outputs": [
    {
     "data": {
      "text/plain": [
       "<KerasTensor: shape=(None, 1) dtype=float32 (created by layer 'dense_2')>"
      ]
     },
     "execution_count": 45,
     "metadata": {},
     "output_type": "execute_result"
    }
   ],
   "source": [
    "classifier"
   ]
  },
  {
   "cell_type": "code",
   "execution_count": 46,
   "id": "82d7f4f3-eeba-48b8-a01f-2d4d33165ed7",
   "metadata": {},
   "outputs": [],
   "source": [
    "siamese_network = Model(inputs=[input_image, validation_image], outputs=classifier, name='SiameseNetwork')"
   ]
  },
  {
   "cell_type": "code",
   "execution_count": 47,
   "id": "2d7f75f4-373d-48f7-9b6e-d0760197a6e3",
   "metadata": {},
   "outputs": [
    {
     "name": "stdout",
     "output_type": "stream",
     "text": [
      "Model: \"SiameseNetwork\"\n",
      "__________________________________________________________________________________________________\n",
      " Layer (type)                   Output Shape         Param #     Connected to                     \n",
      "==================================================================================================\n",
      " input_img (InputLayer)         [(None, 100, 100, 3  0           []                               \n",
      "                                )]                                                                \n",
      "                                                                                                  \n",
      " validation_img (InputLayer)    [(None, 100, 100, 3  0           []                               \n",
      "                                )]                                                                \n",
      "                                                                                                  \n",
      " embedding (Functional)         (None, 4096)         38960448    ['input_img[0][0]',              \n",
      "                                                                  'validation_img[0][0]']         \n",
      "                                                                                                  \n",
      " l1_dist_1 (L1Dist)             (None, 4096)         0           ['embedding[0][0]',              \n",
      "                                                                  'embedding[1][0]']              \n",
      "                                                                                                  \n",
      " dense_2 (Dense)                (None, 1)            4097        ['l1_dist_1[0][0]']              \n",
      "                                                                                                  \n",
      "==================================================================================================\n",
      "Total params: 38,964,545\n",
      "Trainable params: 38,964,545\n",
      "Non-trainable params: 0\n",
      "__________________________________________________________________________________________________\n"
     ]
    }
   ],
   "source": [
    "siamese_network.summary()"
   ]
  },
  {
   "cell_type": "code",
   "execution_count": 48,
   "id": "033a2da1-372b-4a74-af83-9cf850c70805",
   "metadata": {},
   "outputs": [],
   "source": [
    "def make_siamese_model(): \n",
    "    \n",
    "    # Anchor image input in the network\n",
    "    input_image = Input(name='input_img', shape=(100,100,3))\n",
    "    \n",
    "    # Validation image in the network \n",
    "    validation_image = Input(name='validation_img', shape=(100,100,3))\n",
    "    \n",
    "    # Combine siamese distance components\n",
    "    siamese_layer = L1Dist()\n",
    "    siamese_layer._name = 'distance'\n",
    "    distances = siamese_layer(embedding(input_image), embedding(validation_image))\n",
    "    \n",
    "    # Classification layer \n",
    "    classifier = Dense(1, activation='sigmoid')(distances)\n",
    "    \n",
    "    return Model(inputs=[input_image, validation_image], outputs=classifier, name='SiameseNetwork')"
   ]
  },
  {
   "cell_type": "code",
   "execution_count": 49,
   "id": "c2b326d7-05d0-4202-8156-f83ebd0542e6",
   "metadata": {},
   "outputs": [],
   "source": [
    "siamese_model = make_siamese_model()"
   ]
  },
  {
   "cell_type": "code",
   "execution_count": 50,
   "id": "3297e168-2f8f-45aa-8d86-b65590d0875f",
   "metadata": {},
   "outputs": [
    {
     "name": "stdout",
     "output_type": "stream",
     "text": [
      "Model: \"SiameseNetwork\"\n",
      "__________________________________________________________________________________________________\n",
      " Layer (type)                   Output Shape         Param #     Connected to                     \n",
      "==================================================================================================\n",
      " input_img (InputLayer)         [(None, 100, 100, 3  0           []                               \n",
      "                                )]                                                                \n",
      "                                                                                                  \n",
      " validation_img (InputLayer)    [(None, 100, 100, 3  0           []                               \n",
      "                                )]                                                                \n",
      "                                                                                                  \n",
      " embedding (Functional)         (None, 4096)         38960448    ['input_img[0][0]',              \n",
      "                                                                  'validation_img[0][0]']         \n",
      "                                                                                                  \n",
      " distance (L1Dist)              (None, 4096)         0           ['embedding[2][0]',              \n",
      "                                                                  'embedding[3][0]']              \n",
      "                                                                                                  \n",
      " dense_3 (Dense)                (None, 1)            4097        ['distance[0][0]']               \n",
      "                                                                                                  \n",
      "==================================================================================================\n",
      "Total params: 38,964,545\n",
      "Trainable params: 38,964,545\n",
      "Non-trainable params: 0\n",
      "__________________________________________________________________________________________________\n"
     ]
    }
   ],
   "source": [
    "siamese_model.summary()"
   ]
  },
  {
   "cell_type": "markdown",
   "id": "68400663-c2c5-4801-991a-c4ad7784f6b6",
   "metadata": {},
   "source": [
    "## TRAINING"
   ]
  },
  {
   "cell_type": "code",
   "execution_count": 51,
   "id": "6d000dcf-509f-4e15-8a35-23bec25b1d51",
   "metadata": {},
   "outputs": [],
   "source": [
    "binary_cross_loss = tf.losses.BinaryCrossentropy()"
   ]
  },
  {
   "cell_type": "code",
   "execution_count": 52,
   "id": "b003024e-6c80-4b4e-aab1-1496a817d9ad",
   "metadata": {},
   "outputs": [],
   "source": [
    "opt = tf.keras.optimizers.Adam(1e-4) # 0.0001"
   ]
  },
  {
   "cell_type": "code",
   "execution_count": 53,
   "id": "84650c15-8101-4ec9-9f37-9140abda7721",
   "metadata": {},
   "outputs": [],
   "source": [
    "checkpoint_dir = './training_checkpoints'\n",
    "checkpoint_prefix = os.path.join(checkpoint_dir, 'ckpt')\n",
    "checkpoint = tf.train.Checkpoint(opt=opt, siamese_model=siamese_model)"
   ]
  },
  {
   "cell_type": "code",
   "execution_count": 54,
   "id": "115e752f-eaee-45d0-9640-e0c63c3137ef",
   "metadata": {},
   "outputs": [],
   "source": [
    "test_batch = train_data.as_numpy_iterator()"
   ]
  },
  {
   "cell_type": "code",
   "execution_count": 55,
   "id": "db4f784e-d589-47dc-bdfd-a76b460235b6",
   "metadata": {},
   "outputs": [
    {
     "data": {
      "text/plain": [
       "(array([[[[0.5803922 , 0.5686275 , 0.54901963],\n",
       "          [0.5882353 , 0.5764706 , 0.5568628 ],\n",
       "          [0.595098  , 0.5833333 , 0.5637255 ],\n",
       "          ...,\n",
       "          [0.7710784 , 0.7463235 , 0.7362745 ],\n",
       "          [0.76887256, 0.74852943, 0.7370098 ],\n",
       "          [0.76936275, 0.7497549 , 0.7379902 ]],\n",
       " \n",
       "         [[0.58137256, 0.57254905, 0.5421569 ],\n",
       "          [0.5862745 , 0.577451  , 0.5470588 ],\n",
       "          [0.59068626, 0.57965684, 0.5514706 ],\n",
       "          ...,\n",
       "          [0.764951  , 0.75147057, 0.7389706 ],\n",
       "          [0.77156866, 0.7558824 , 0.7441176 ],\n",
       "          [0.7703431 , 0.75465685, 0.74289215]],\n",
       " \n",
       "         [[0.5732843 , 0.5732843 , 0.53995097],\n",
       "          [0.5803922 , 0.5803922 , 0.5470588 ],\n",
       "          [0.5879902 , 0.5857843 , 0.55465686],\n",
       "          ...,\n",
       "          [0.76666665, 0.75980395, 0.74509805],\n",
       "          [0.7776961 , 0.7620098 , 0.7502451 ],\n",
       "          [0.78333336, 0.7676471 , 0.7558824 ]],\n",
       " \n",
       "         ...,\n",
       " \n",
       "         [[0.64117646, 0.6490196 , 0.6372549 ],\n",
       "          [0.6431373 , 0.6509804 , 0.6392157 ],\n",
       "          [0.65      , 0.6578431 , 0.6460784 ],\n",
       "          ...,\n",
       "          [0.7490196 , 0.7480392 , 0.71960783],\n",
       "          [0.7490196 , 0.74509805, 0.7254902 ],\n",
       "          [0.7480392 , 0.7441176 , 0.7245098 ]],\n",
       " \n",
       "         [[0.64411765, 0.6460784 , 0.6372549 ],\n",
       "          [0.6431373 , 0.6509804 , 0.6392157 ],\n",
       "          [0.65      , 0.6578431 , 0.6460784 ],\n",
       "          ...,\n",
       "          [0.7490196 , 0.7480392 , 0.71960783],\n",
       "          [0.7490196 , 0.74509805, 0.7254902 ],\n",
       "          [0.74509805, 0.7411765 , 0.72156864]],\n",
       " \n",
       "         [[0.6401961 , 0.6401961 , 0.63235295],\n",
       "          [0.6401961 , 0.6480392 , 0.6362745 ],\n",
       "          [0.65      , 0.6578431 , 0.6460784 ],\n",
       "          ...,\n",
       "          [0.7411765 , 0.74019605, 0.7117647 ],\n",
       "          [0.74509805, 0.7411765 , 0.72156864],\n",
       "          [0.7490196 , 0.74509805, 0.7254902 ]]],\n",
       " \n",
       " \n",
       "        [[[0.654902  , 0.65882355, 0.6392157 ],\n",
       "          [0.654902  , 0.65882355, 0.6392157 ],\n",
       "          [0.654902  , 0.65882355, 0.6392157 ],\n",
       "          ...,\n",
       "          [0.7492647 , 0.7375    , 0.71789217],\n",
       "          [0.7492647 , 0.7375    , 0.71789217],\n",
       "          [0.7490196 , 0.7372549 , 0.7176471 ]],\n",
       " \n",
       "         [[0.65392154, 0.6598039 , 0.63529414],\n",
       "          [0.654902  , 0.65882355, 0.63529414],\n",
       "          [0.654902  , 0.65882355, 0.63529414],\n",
       "          ...,\n",
       "          [0.7529412 , 0.7411765 , 0.72156864],\n",
       "          [0.7529412 , 0.7411765 , 0.71568626],\n",
       "          [0.7529412 , 0.7411765 , 0.7137255 ]],\n",
       " \n",
       "         [[0.6509804 , 0.6627451 , 0.63529414],\n",
       "          [0.6526961 , 0.6610294 , 0.63529414],\n",
       "          [0.654902  , 0.65882355, 0.6375    ],\n",
       "          ...,\n",
       "          [0.7509804 , 0.7392157 , 0.71960783],\n",
       "          [0.75465685, 0.74289215, 0.717402  ],\n",
       "          [0.75392157, 0.74215686, 0.7147059 ]],\n",
       " \n",
       "         ...,\n",
       " \n",
       "         [[0.65661764, 0.67034316, 0.6644608 ],\n",
       "          [0.6664216 , 0.6742647 , 0.66838235],\n",
       "          [0.67156863, 0.6735294 , 0.67058825],\n",
       "          ...,\n",
       "          [0.722549  , 0.7245098 , 0.7058824 ],\n",
       "          [0.7291667 , 0.7252451 , 0.70955884],\n",
       "          [0.7323529 , 0.72843134, 0.7127451 ]],\n",
       " \n",
       "         [[0.6617647 , 0.6696078 , 0.6578431 ],\n",
       "          [0.6634804 , 0.67132354, 0.65955883],\n",
       "          [0.66862744, 0.67058825, 0.6617647 ],\n",
       "          ...,\n",
       "          [0.722549  , 0.7245098 , 0.7058824 ],\n",
       "          [0.72843134, 0.7245098 , 0.7088235 ],\n",
       "          [0.7254902 , 0.72156864, 0.7058824 ]],\n",
       " \n",
       "         [[0.6598039 , 0.66764706, 0.6480392 ],\n",
       "          [0.6627451 , 0.67058825, 0.65882355],\n",
       "          [0.6696078 , 0.67156863, 0.6627451 ],\n",
       "          ...,\n",
       "          [0.7205882 , 0.71862745, 0.7019608 ],\n",
       "          [0.7235294 , 0.72745097, 0.7078431 ],\n",
       "          [0.7254902 , 0.7294118 , 0.70980394]]],\n",
       " \n",
       " \n",
       "        [[[0.66568625, 0.6617647 , 0.64215684],\n",
       "          [0.6745098 , 0.67058825, 0.6509804 ],\n",
       "          [0.67156863, 0.6735294 , 0.6509804 ],\n",
       "          ...,\n",
       "          [0.7647059 , 0.7529412 , 0.7254902 ],\n",
       "          [0.77156866, 0.75980395, 0.7323529 ],\n",
       "          [0.77254903, 0.7607843 , 0.73333335]],\n",
       " \n",
       "         [[0.6696078 , 0.66568625, 0.65      ],\n",
       "          [0.6745098 , 0.67058825, 0.6526961 ],\n",
       "          [0.6745098 , 0.6764706 , 0.65563726],\n",
       "          ...,\n",
       "          [0.77254903, 0.7607843 , 0.7352941 ],\n",
       "          [0.76862746, 0.75686276, 0.73137254],\n",
       "          [0.77254903, 0.7607843 , 0.7352941 ]],\n",
       " \n",
       "         [[0.67058825, 0.6666667 , 0.6509804 ],\n",
       "          [0.6737745 , 0.67132354, 0.654902  ],\n",
       "          [0.6737745 , 0.67720586, 0.6578431 ],\n",
       "          ...,\n",
       "          [0.76642156, 0.752451  , 0.7372549 ],\n",
       "          [0.76862746, 0.75686276, 0.7372549 ],\n",
       "          [0.77254903, 0.7607843 , 0.7411765 ]],\n",
       " \n",
       "         ...,\n",
       " \n",
       "         [[0.6816176 , 0.6816176 , 0.6737745 ],\n",
       "          [0.68235296, 0.68235296, 0.6745098 ],\n",
       "          [0.6852941 , 0.6852941 , 0.67745095],\n",
       "          ...,\n",
       "          [0.7411765 , 0.74509805, 0.7254902 ],\n",
       "          [0.7463235 , 0.74583334, 0.72843134],\n",
       "          [0.7473039 , 0.74534315, 0.7286765 ]],\n",
       " \n",
       "         [[0.6816176 , 0.6816176 , 0.6737745 ],\n",
       "          [0.68235296, 0.68235296, 0.6745098 ],\n",
       "          [0.6852941 , 0.6852941 , 0.67745095],\n",
       "          ...,\n",
       "          [0.7411765 , 0.74509805, 0.7254902 ],\n",
       "          [0.7411765 , 0.74509805, 0.7254902 ],\n",
       "          [0.7382353 , 0.74215686, 0.722549  ]],\n",
       " \n",
       "         [[0.67745095, 0.67745095, 0.6696078 ],\n",
       "          [0.68039215, 0.68039215, 0.672549  ],\n",
       "          [0.6901961 , 0.6901961 , 0.68235296],\n",
       "          ...,\n",
       "          [0.7372549 , 0.7411765 , 0.72156864],\n",
       "          [0.74019605, 0.7441176 , 0.7245098 ],\n",
       "          [0.7441176 , 0.7480392 , 0.72843134]]],\n",
       " \n",
       " \n",
       "        ...,\n",
       " \n",
       " \n",
       "        [[[0.6512255 , 0.65906864, 0.64730394],\n",
       "          [0.6519608 , 0.65294117, 0.64215684],\n",
       "          [0.6578431 , 0.6617647 , 0.64215684],\n",
       "          ...,\n",
       "          [0.7519608 , 0.74019605, 0.7127451 ],\n",
       "          [0.7497549 , 0.7379902 , 0.71642154],\n",
       "          [0.7561275 , 0.7443628 , 0.7247549 ]],\n",
       " \n",
       "         [[0.6519608 , 0.65294117, 0.64215684],\n",
       "          [0.6512255 , 0.6551471 , 0.63553923],\n",
       "          [0.654902  , 0.65882355, 0.6392157 ],\n",
       "          ...,\n",
       "          [0.7529412 , 0.7411765 , 0.7171569 ],\n",
       "          [0.7529412 , 0.7404412 , 0.7223039 ],\n",
       "          [0.7529412 , 0.7411765 , 0.72156864]],\n",
       " \n",
       "         [[0.6578431 , 0.65588236, 0.6392157 ],\n",
       "          [0.6578431 , 0.65588236, 0.6392157 ],\n",
       "          [0.6578431 , 0.65588236, 0.6392157 ],\n",
       "          ...,\n",
       "          [0.7529412 , 0.7382353 , 0.7245098 ],\n",
       "          [0.7529412 , 0.7375    , 0.7252451 ],\n",
       "          [0.75686276, 0.74215686, 0.72843134]],\n",
       " \n",
       "         ...,\n",
       " \n",
       "         [[0.6637255 , 0.67058825, 0.65686274],\n",
       "          [0.66519606, 0.67156863, 0.65906864],\n",
       "          [0.6696078 , 0.67156863, 0.6627451 ],\n",
       "          ...,\n",
       "          [0.7227941 , 0.7223039 , 0.7019608 ],\n",
       "          [0.7205882 , 0.7245098 , 0.7019608 ],\n",
       "          [0.722549  , 0.7264706 , 0.70392156]],\n",
       " \n",
       "         [[0.66593134, 0.6698529 , 0.6502451 ],\n",
       "          [0.6696078 , 0.6745098 , 0.65539217],\n",
       "          [0.66740197, 0.6745098 , 0.65686274],\n",
       "          ...,\n",
       "          [0.71838236, 0.7223039 , 0.7026961 ],\n",
       "          [0.7227941 , 0.7223039 , 0.70490193],\n",
       "          [0.7245098 , 0.722549  , 0.7058824 ]],\n",
       " \n",
       "         [[0.6666667 , 0.67058825, 0.64705884],\n",
       "          [0.66568625, 0.67058825, 0.6480392 ],\n",
       "          [0.6627451 , 0.67058825, 0.6509804 ],\n",
       "          ...,\n",
       "          [0.7205882 , 0.7245098 , 0.70490193],\n",
       "          [0.7235294 , 0.72156864, 0.70490193],\n",
       "          [0.7294118 , 0.7254902 , 0.70980394]]],\n",
       " \n",
       " \n",
       "        [[[0.6666667 , 0.6627451 , 0.64705884],\n",
       "          [0.6698529 , 0.66593134, 0.6463235 ],\n",
       "          [0.6735294 , 0.6696078 , 0.65      ],\n",
       "          ...,\n",
       "          [0.76642156, 0.7507353 , 0.7389706 ],\n",
       "          [0.7627451 , 0.7558824 , 0.7382353 ],\n",
       "          [0.75980395, 0.7558824 , 0.7362745 ]],\n",
       " \n",
       "         [[0.67058825, 0.6666667 , 0.6509804 ],\n",
       "          [0.67132354, 0.66740197, 0.6507353 ],\n",
       "          [0.6745098 , 0.67058825, 0.6509804 ],\n",
       "          ...,\n",
       "          [0.76348037, 0.752451  , 0.7379902 ],\n",
       "          [0.7627451 , 0.75686276, 0.7379902 ],\n",
       "          [0.75980395, 0.75392157, 0.7343137 ]],\n",
       " \n",
       "         [[0.6727941 , 0.66887254, 0.65318626],\n",
       "          [0.6735294 , 0.6696078 , 0.65367645],\n",
       "          [0.6742647 , 0.67034316, 0.6514706 ],\n",
       "          ...,\n",
       "          [0.7627451 , 0.75686276, 0.7372549 ],\n",
       "          [0.76862746, 0.75686276, 0.7372549 ],\n",
       "          [0.77156866, 0.75686276, 0.74313724]],\n",
       " \n",
       "         ...,\n",
       " \n",
       "         [[0.68063724, 0.68063724, 0.6727941 ],\n",
       "          [0.6855392 , 0.6855392 , 0.67769605],\n",
       "          [0.6901961 , 0.6901961 , 0.6882353 ],\n",
       "          ...,\n",
       "          [0.7343137 , 0.7404412 , 0.7230392 ],\n",
       "          [0.74019605, 0.7411765 , 0.73039216],\n",
       "          [0.7441176 , 0.74509805, 0.7343137 ]],\n",
       " \n",
       "         [[0.67769605, 0.67769605, 0.6698529 ],\n",
       "          [0.68259805, 0.68259805, 0.6747549 ],\n",
       "          [0.6870098 , 0.6870098 , 0.68063724],\n",
       "          ...,\n",
       "          [0.7343137 , 0.7404412 , 0.72745097],\n",
       "          [0.74019605, 0.74338233, 0.7259804 ],\n",
       "          [0.74215686, 0.74607843, 0.7264706 ]],\n",
       " \n",
       "         [[0.67745095, 0.67745095, 0.6696078 ],\n",
       "          [0.6784314 , 0.6784314 , 0.67058825],\n",
       "          [0.67745095, 0.67745095, 0.6696078 ],\n",
       "          ...,\n",
       "          [0.73039216, 0.7372549 , 0.7235294 ],\n",
       "          [0.73333335, 0.7372549 , 0.7176471 ],\n",
       "          [0.7372549 , 0.7411765 , 0.72156864]]],\n",
       " \n",
       " \n",
       "        [[[0.5803922 , 0.5686275 , 0.54901963],\n",
       "          [0.5882353 , 0.5764706 , 0.5568628 ],\n",
       "          [0.595098  , 0.5833333 , 0.5637255 ],\n",
       "          ...,\n",
       "          [0.7710784 , 0.7463235 , 0.7362745 ],\n",
       "          [0.76887256, 0.74852943, 0.7370098 ],\n",
       "          [0.76936275, 0.7497549 , 0.7379902 ]],\n",
       " \n",
       "         [[0.58137256, 0.57254905, 0.5421569 ],\n",
       "          [0.5862745 , 0.577451  , 0.5470588 ],\n",
       "          [0.59068626, 0.57965684, 0.5514706 ],\n",
       "          ...,\n",
       "          [0.764951  , 0.75147057, 0.7389706 ],\n",
       "          [0.77156866, 0.7558824 , 0.7441176 ],\n",
       "          [0.7703431 , 0.75465685, 0.74289215]],\n",
       " \n",
       "         [[0.5732843 , 0.5732843 , 0.53995097],\n",
       "          [0.5803922 , 0.5803922 , 0.5470588 ],\n",
       "          [0.5879902 , 0.5857843 , 0.55465686],\n",
       "          ...,\n",
       "          [0.76666665, 0.75980395, 0.74509805],\n",
       "          [0.7776961 , 0.7620098 , 0.7502451 ],\n",
       "          [0.78333336, 0.7676471 , 0.7558824 ]],\n",
       " \n",
       "         ...,\n",
       " \n",
       "         [[0.64117646, 0.6490196 , 0.6372549 ],\n",
       "          [0.6431373 , 0.6509804 , 0.6392157 ],\n",
       "          [0.65      , 0.6578431 , 0.6460784 ],\n",
       "          ...,\n",
       "          [0.7490196 , 0.7480392 , 0.71960783],\n",
       "          [0.7490196 , 0.74509805, 0.7254902 ],\n",
       "          [0.7480392 , 0.7441176 , 0.7245098 ]],\n",
       " \n",
       "         [[0.64411765, 0.6460784 , 0.6372549 ],\n",
       "          [0.6431373 , 0.6509804 , 0.6392157 ],\n",
       "          [0.65      , 0.6578431 , 0.6460784 ],\n",
       "          ...,\n",
       "          [0.7490196 , 0.7480392 , 0.71960783],\n",
       "          [0.7490196 , 0.74509805, 0.7254902 ],\n",
       "          [0.74509805, 0.7411765 , 0.72156864]],\n",
       " \n",
       "         [[0.6401961 , 0.6401961 , 0.63235295],\n",
       "          [0.6401961 , 0.6480392 , 0.6362745 ],\n",
       "          [0.65      , 0.6578431 , 0.6460784 ],\n",
       "          ...,\n",
       "          [0.7411765 , 0.74019605, 0.7117647 ],\n",
       "          [0.74509805, 0.7411765 , 0.72156864],\n",
       "          [0.7490196 , 0.74509805, 0.7254902 ]]]], dtype=float32),\n",
       " array([[[[0.        , 0.00392157, 0.        ],\n",
       "          [0.        , 0.00392157, 0.        ],\n",
       "          [0.        , 0.00392157, 0.        ],\n",
       "          ...,\n",
       "          [0.        , 0.        , 0.        ],\n",
       "          [0.        , 0.        , 0.        ],\n",
       "          [0.        , 0.        , 0.        ]],\n",
       " \n",
       "         [[0.        , 0.        , 0.00588235],\n",
       "          [0.        , 0.        , 0.00588235],\n",
       "          [0.        , 0.        , 0.00588235],\n",
       "          ...,\n",
       "          [0.        , 0.00098039, 0.        ],\n",
       "          [0.        , 0.00098039, 0.        ],\n",
       "          [0.        , 0.00098039, 0.        ]],\n",
       " \n",
       "         [[0.        , 0.00294118, 0.        ],\n",
       "          [0.        , 0.00294118, 0.        ],\n",
       "          [0.        , 0.00294118, 0.        ],\n",
       "          ...,\n",
       "          [0.        , 0.00392157, 0.        ],\n",
       "          [0.        , 0.00392157, 0.        ],\n",
       "          [0.        , 0.00392157, 0.        ]],\n",
       " \n",
       "         ...,\n",
       " \n",
       "         [[0.05882353, 0.05490196, 0.07450981],\n",
       "          [0.04705882, 0.04313726, 0.06372549],\n",
       "          [0.02058824, 0.01666667, 0.04607843],\n",
       "          ...,\n",
       "          [0.01764706, 0.03235294, 0.07352941],\n",
       "          [0.02647059, 0.0382353 , 0.06764706],\n",
       "          [0.03529412, 0.03529412, 0.06666667]],\n",
       " \n",
       "         [[0.05882353, 0.05490196, 0.07450981],\n",
       "          [0.03946079, 0.03553922, 0.05833333],\n",
       "          [0.01446078, 0.01053922, 0.03995098],\n",
       "          ...,\n",
       "          [0.01764706, 0.03235294, 0.07352941],\n",
       "          [0.03039216, 0.04215686, 0.07156863],\n",
       "          [0.03921569, 0.03921569, 0.07058824]],\n",
       " \n",
       "         [[0.05392157, 0.05      , 0.06960785],\n",
       "          [0.04901961, 0.04509804, 0.07058824],\n",
       "          [0.01176471, 0.00784314, 0.03921569],\n",
       "          ...,\n",
       "          [0.02843137, 0.04313726, 0.08431373],\n",
       "          [0.03529412, 0.04705882, 0.07647059],\n",
       "          [0.04313726, 0.04313726, 0.07450981]]],\n",
       " \n",
       " \n",
       "        [[[0.6696078 , 0.66568625, 0.6460784 ],\n",
       "          [0.6762255 , 0.6723039 , 0.6526961 ],\n",
       "          [0.67769605, 0.6737745 , 0.65416664],\n",
       "          ...,\n",
       "          [0.77254903, 0.7607843 , 0.7411765 ],\n",
       "          [0.76862746, 0.75686276, 0.7372549 ],\n",
       "          [0.77156866, 0.75980395, 0.74019605]],\n",
       " \n",
       "         [[0.6718137 , 0.66789216, 0.6492647 ],\n",
       "          [0.6723039 , 0.66838235, 0.6497549 ],\n",
       "          [0.68039215, 0.6764706 , 0.6578431 ],\n",
       "          ...,\n",
       "          [0.77254903, 0.7607843 , 0.7411765 ],\n",
       "          [0.76862746, 0.75686276, 0.7372549 ],\n",
       "          [0.76862746, 0.75686276, 0.7372549 ]],\n",
       " \n",
       "         [[0.6737745 , 0.6698529 , 0.65416664],\n",
       "          [0.6784314 , 0.6745098 , 0.65882355],\n",
       "          [0.6813725 , 0.67745095, 0.6617647 ],\n",
       "          ...,\n",
       "          [0.77254903, 0.7607843 , 0.7411765 ],\n",
       "          [0.76862746, 0.75686276, 0.7372549 ],\n",
       "          [0.77254903, 0.7607843 , 0.7411765 ]],\n",
       " \n",
       "         ...,\n",
       " \n",
       "         [[0.6784314 , 0.6862745 , 0.66862744],\n",
       "          [0.68235296, 0.6901961 , 0.672549  ],\n",
       "          [0.6852941 , 0.6931372 , 0.6754902 ],\n",
       "          ...,\n",
       "          [0.735049  , 0.7411765 , 0.72156864],\n",
       "          [0.7372549 , 0.7404412 , 0.7230392 ],\n",
       "          [0.74215686, 0.74215686, 0.7343137 ]],\n",
       " \n",
       "         [[0.67769605, 0.6855392 , 0.6737745 ],\n",
       "          [0.68235296, 0.6901961 , 0.6784314 ],\n",
       "          [0.68235296, 0.6901961 , 0.6784314 ],\n",
       "          ...,\n",
       "          [0.7372549 , 0.7411765 , 0.72156864],\n",
       "          [0.735049  , 0.7360294 , 0.7252451 ],\n",
       "          [0.7411765 , 0.7411765 , 0.73333335]],\n",
       " \n",
       "         [[0.6791667 , 0.6870098 , 0.6752451 ],\n",
       "          [0.6791667 , 0.6870098 , 0.6752451 ],\n",
       "          [0.68235296, 0.6901961 , 0.6784314 ],\n",
       "          ...,\n",
       "          [0.73333335, 0.7362745 , 0.71960783],\n",
       "          [0.7370098 , 0.7370098 , 0.7291667 ],\n",
       "          [0.7411765 , 0.7411765 , 0.73333335]]],\n",
       " \n",
       " \n",
       "        [[[0.67696077, 0.6455882 , 0.5012255 ],\n",
       "          [0.702451  , 0.67107844, 0.5240196 ],\n",
       "          [0.6936275 , 0.6622549 , 0.5151961 ],\n",
       "          ...,\n",
       "          [0.7490196 , 0.7262255 , 0.67107844],\n",
       "          [0.44460785, 0.43357843, 0.3747549 ],\n",
       "          [0.3897059 , 0.3870098 , 0.32647058]],\n",
       " \n",
       "         [[0.6458333 , 0.62058824, 0.4990196 ],\n",
       "          [0.65637255, 0.6338235 , 0.5112745 ],\n",
       "          [0.65294117, 0.63039213, 0.50784314],\n",
       "          ...,\n",
       "          [0.59142154, 0.5627451 , 0.50808823],\n",
       "          [0.46936274, 0.45465687, 0.39485294],\n",
       "          [0.43676472, 0.42794117, 0.36715686]],\n",
       " \n",
       "         [[0.5031863 , 0.48553923, 0.3865196 ],\n",
       "          [0.47058824, 0.45294118, 0.35392156],\n",
       "          [0.49166667, 0.47107843, 0.38284314],\n",
       "          ...,\n",
       "          [0.46887255, 0.44142157, 0.37279412],\n",
       "          [0.47181374, 0.4512255 , 0.37965685],\n",
       "          [0.45269608, 0.43504903, 0.3625    ]],\n",
       " \n",
       "         ...,\n",
       " \n",
       "         [[0.56421566, 0.4764706 , 0.3855392 ],\n",
       "          [0.5247549 , 0.44436276, 0.36740196],\n",
       "          [0.4644608 , 0.40220588, 0.3482843 ],\n",
       "          ...,\n",
       "          [0.1004902 , 0.1004902 , 0.09460784],\n",
       "          [0.0625    , 0.0625    , 0.0625    ],\n",
       "          [0.06372549, 0.06372549, 0.07156863]],\n",
       " \n",
       "         [[0.5237745 , 0.44117647, 0.35833332],\n",
       "          [0.4776961 , 0.40588236, 0.3409314 ],\n",
       "          [0.26446077, 0.2127451 , 0.17083333],\n",
       "          ...,\n",
       "          [0.23357843, 0.23357843, 0.22769608],\n",
       "          [0.08284314, 0.08284314, 0.08284314],\n",
       "          [0.06078431, 0.06078431, 0.06862745]],\n",
       " \n",
       "         [[0.514951  , 0.43480393, 0.35171568],\n",
       "          [0.34754902, 0.2867647 , 0.22696078],\n",
       "          [0.11593137, 0.0752451 , 0.0375    ],\n",
       "          ...,\n",
       "          [0.50171566, 0.50171566, 0.49583334],\n",
       "          [0.11127451, 0.11127451, 0.11127451],\n",
       "          [0.05392157, 0.05392157, 0.06176471]]],\n",
       " \n",
       " \n",
       "        ...,\n",
       " \n",
       " \n",
       "        [[[0.66764706, 0.6637255 , 0.6480392 ],\n",
       "          [0.672549  , 0.66862744, 0.654902  ],\n",
       "          [0.6784314 , 0.6745098 , 0.6666667 ],\n",
       "          ...,\n",
       "          [0.7676471 , 0.7558824 , 0.7362745 ],\n",
       "          [0.76862746, 0.75686276, 0.7372549 ],\n",
       "          [0.77156866, 0.7519608 , 0.7362745 ]],\n",
       " \n",
       "         [[0.67132354, 0.66740197, 0.6507353 ],\n",
       "          [0.6754902 , 0.67156863, 0.65588236],\n",
       "          [0.68063724, 0.6767157 , 0.66544116],\n",
       "          ...,\n",
       "          [0.7676471 , 0.7558824 , 0.7362745 ],\n",
       "          [0.76862746, 0.75686276, 0.7372549 ],\n",
       "          [0.7754902 , 0.75784314, 0.7411765 ]],\n",
       " \n",
       "         [[0.67058825, 0.6666667 , 0.64705884],\n",
       "          [0.67156863, 0.66764706, 0.6497549 ],\n",
       "          [0.6745098 , 0.67058825, 0.654902  ],\n",
       "          ...,\n",
       "          [0.7676471 , 0.7558824 , 0.7362745 ],\n",
       "          [0.76862746, 0.75686276, 0.7372549 ],\n",
       "          [0.77254903, 0.7607843 , 0.7411765 ]],\n",
       " \n",
       "         ...,\n",
       " \n",
       "         [[0.67941177, 0.6872549 , 0.6754902 ],\n",
       "          [0.6862745 , 0.69411767, 0.68235296],\n",
       "          [0.6877451 , 0.6911765 , 0.6816176 ],\n",
       "          ...,\n",
       "          [0.7409314 , 0.7370098 , 0.72132355],\n",
       "          [0.74338233, 0.73946077, 0.7237745 ],\n",
       "          [0.7473039 , 0.74338233, 0.7355392 ]],\n",
       " \n",
       "         [[0.6732843 , 0.6811274 , 0.6693627 ],\n",
       "          [0.68235296, 0.6901961 , 0.6784314 ],\n",
       "          [0.68333334, 0.6911765 , 0.67941177],\n",
       "          ...,\n",
       "          [0.7372549 , 0.73333335, 0.7176471 ],\n",
       "          [0.74019605, 0.7362745 , 0.7205882 ],\n",
       "          [0.7411765 , 0.7372549 , 0.7294118 ]],\n",
       " \n",
       "         [[0.6745098 , 0.68235296, 0.67058825],\n",
       "          [0.6784314 , 0.6862745 , 0.6745098 ],\n",
       "          [0.6784314 , 0.6862745 , 0.6745098 ],\n",
       "          ...,\n",
       "          [0.7372549 , 0.73333335, 0.7176471 ],\n",
       "          [0.7372549 , 0.73333335, 0.7176471 ],\n",
       "          [0.7352941 , 0.73137254, 0.7235294 ]]],\n",
       " \n",
       " \n",
       "        [[[0.6852941 , 0.6813725 , 0.66568625],\n",
       "          [0.6911765 , 0.6872549 , 0.66764706],\n",
       "          [0.69411767, 0.6901961 , 0.67058825],\n",
       "          ...,\n",
       "          [0.78039217, 0.7607843 , 0.74509805],\n",
       "          [0.78333336, 0.7637255 , 0.7480392 ],\n",
       "          [0.78431374, 0.7647059 , 0.7490196 ]],\n",
       " \n",
       "         [[0.6845588 , 0.68063724, 0.66495097],\n",
       "          [0.6894608 , 0.6855392 , 0.66593134],\n",
       "          [0.6909314 , 0.69289213, 0.67034316],\n",
       "          ...,\n",
       "          [0.78137255, 0.7617647 , 0.74607843],\n",
       "          [0.78431374, 0.7647059 , 0.7490196 ],\n",
       "          [0.7882353 , 0.76862746, 0.7529412 ]],\n",
       " \n",
       "         [[0.6852941 , 0.6813725 , 0.66568625],\n",
       "          [0.6865196 , 0.6884804 , 0.66813725],\n",
       "          [0.6901961 , 0.6936275 , 0.67034316],\n",
       "          ...,\n",
       "          [0.78137255, 0.7676471 , 0.7490196 ],\n",
       "          [0.78357846, 0.76985294, 0.7512255 ],\n",
       "          [0.7823529 , 0.76862746, 0.75      ]],\n",
       " \n",
       "         ...,\n",
       " \n",
       "         [[0.6872549 , 0.70392156, 0.6813725 ],\n",
       "          [0.69289213, 0.70735294, 0.6855392 ],\n",
       "          [0.70098037, 0.70735294, 0.689951  ],\n",
       "          ...,\n",
       "          [0.7519608 , 0.7490196 , 0.7352941 ],\n",
       "          [0.75490195, 0.7519608 , 0.7382353 ],\n",
       "          [0.75980395, 0.75686276, 0.74313724]],\n",
       " \n",
       "         [[0.6901961 , 0.69803923, 0.6784314 ],\n",
       "          [0.69485295, 0.7012255 , 0.6838235 ],\n",
       "          [0.6985294 , 0.6990196 , 0.6904412 ],\n",
       "          ...,\n",
       "          [0.7490196 , 0.7512255 , 0.7367647 ],\n",
       "          [0.7519608 , 0.7519608 , 0.7441176 ],\n",
       "          [0.75392157, 0.75392157, 0.74607843]],\n",
       " \n",
       "         [[0.69730395, 0.69730395, 0.6894608 ],\n",
       "          [0.69485295, 0.69485295, 0.6870098 ],\n",
       "          [0.7002451 , 0.7002451 , 0.69240195],\n",
       "          ...,\n",
       "          [0.74509805, 0.7480392 , 0.73137254],\n",
       "          [0.7480392 , 0.7480392 , 0.74019605],\n",
       "          [0.7529412 , 0.7529412 , 0.74509805]]],\n",
       " \n",
       " \n",
       "        [[[0.66568625, 0.6696078 , 0.6460784 ],\n",
       "          [0.67058825, 0.6745098 , 0.6509804 ],\n",
       "          [0.6767157 , 0.68063724, 0.65710783],\n",
       "          ...,\n",
       "          [0.75759804, 0.75759804, 0.7262255 ],\n",
       "          [0.76004905, 0.76004905, 0.7286765 ],\n",
       "          [0.75686276, 0.75686276, 0.7254902 ]],\n",
       " \n",
       "         [[0.6637255 , 0.66568625, 0.64411765],\n",
       "          [0.66862744, 0.67058825, 0.6487745 ],\n",
       "          [0.6745098 , 0.6764706 , 0.65392154],\n",
       "          ...,\n",
       "          [0.7651961 , 0.7615196 , 0.73970586],\n",
       "          [0.76348037, 0.76053923, 0.73063725],\n",
       "          [0.75980395, 0.75686276, 0.7264706 ]],\n",
       " \n",
       "         [[0.6742647 , 0.67034316, 0.6546569 ],\n",
       "          [0.6791667 , 0.6752451 , 0.65857846],\n",
       "          [0.6845588 , 0.68063724, 0.6610294 ],\n",
       "          ...,\n",
       "          [0.7639706 , 0.7536765 , 0.73406863],\n",
       "          [0.7647059 , 0.7529412 , 0.7318627 ],\n",
       "          [0.76862746, 0.75686276, 0.7294118 ]],\n",
       " \n",
       "         ...,\n",
       " \n",
       "         [[0.6845588 , 0.6845588 , 0.6767157 ],\n",
       "          [0.6862745 , 0.6862745 , 0.6784314 ],\n",
       "          [0.6884804 , 0.6884804 , 0.68063724],\n",
       "          ...,\n",
       "          [0.74338233, 0.74289215, 0.722549  ],\n",
       "          [0.7411765 , 0.74509805, 0.7254902 ],\n",
       "          [0.74509805, 0.7490196 , 0.7294118 ]],\n",
       " \n",
       "         [[0.68235296, 0.68235296, 0.6745098 ],\n",
       "          [0.6845588 , 0.6845588 , 0.6767157 ],\n",
       "          [0.6852941 , 0.6852941 , 0.67745095],\n",
       "          ...,\n",
       "          [0.7411765 , 0.74509805, 0.722549  ],\n",
       "          [0.7404412 , 0.7443628 , 0.7247549 ],\n",
       "          [0.74509805, 0.7490196 , 0.7294118 ]],\n",
       " \n",
       "         [[0.68235296, 0.68235296, 0.6745098 ],\n",
       "          [0.68235296, 0.68235296, 0.6745098 ],\n",
       "          [0.68235296, 0.68235296, 0.6745098 ],\n",
       "          ...,\n",
       "          [0.73333335, 0.7372549 , 0.7147059 ],\n",
       "          [0.7362745 , 0.74019605, 0.7205882 ],\n",
       "          [0.7411765 , 0.74509805, 0.7254902 ]]]], dtype=float32),\n",
       " array([0., 1., 0., 1., 1., 1., 1., 1., 0., 1., 1., 0., 0., 1., 1., 1.],\n",
       "       dtype=float32))"
      ]
     },
     "execution_count": 55,
     "metadata": {},
     "output_type": "execute_result"
    }
   ],
   "source": [
    "test_batch.next()"
   ]
  },
  {
   "cell_type": "code",
   "execution_count": 56,
   "id": "9191a9e5-4575-4b45-aefd-e932761f5381",
   "metadata": {},
   "outputs": [],
   "source": [
    "batch_1 = test_batch.next()"
   ]
  },
  {
   "cell_type": "code",
   "execution_count": 57,
   "id": "c0d5d7ad-5517-4406-861c-29dc3623aa79",
   "metadata": {},
   "outputs": [
    {
     "data": {
      "text/plain": [
       "array([0., 0., 1., 0., 0., 0., 0., 0., 1., 1., 0., 1., 1., 0., 0., 0.],\n",
       "      dtype=float32)"
      ]
     },
     "execution_count": 57,
     "metadata": {},
     "output_type": "execute_result"
    }
   ],
   "source": [
    "batch_1[2]"
   ]
  },
  {
   "cell_type": "code",
   "execution_count": 58,
   "id": "4287a68f-ea73-4bad-9276-4985d831dd86",
   "metadata": {},
   "outputs": [],
   "source": [
    "X = batch_1[:2]"
   ]
  },
  {
   "cell_type": "code",
   "execution_count": 59,
   "id": "2d53e7e6-bff1-4efb-bdf9-02994e9987ba",
   "metadata": {},
   "outputs": [
    {
     "data": {
      "text/plain": [
       "(2, 16, 100, 100, 3)"
      ]
     },
     "execution_count": 59,
     "metadata": {},
     "output_type": "execute_result"
    }
   ],
   "source": [
    "np.array(X).shape"
   ]
  },
  {
   "cell_type": "code",
   "execution_count": 60,
   "id": "f2a77080-9012-4ee1-97ef-b997db2b4a2e",
   "metadata": {},
   "outputs": [],
   "source": [
    "y = batch_1[2]"
   ]
  },
  {
   "cell_type": "code",
   "execution_count": 61,
   "id": "eed7e25c-0d6e-4841-bebd-909e0d82b8b1",
   "metadata": {},
   "outputs": [
    {
     "data": {
      "text/plain": [
       "array([0., 0., 1., 0., 0., 0., 0., 0., 1., 1., 0., 1., 1., 0., 0., 0.],\n",
       "      dtype=float32)"
      ]
     },
     "execution_count": 61,
     "metadata": {},
     "output_type": "execute_result"
    }
   ],
   "source": [
    "y"
   ]
  },
  {
   "cell_type": "code",
   "execution_count": 64,
   "id": "08876626-8034-4e10-8b28-c98a4a80cf88",
   "metadata": {
    "collapsed": true,
    "jupyter": {
     "outputs_hidden": true
    },
    "tags": []
   },
   "outputs": [
    {
     "data": {
      "text/plain": [
       "\u001b[1;31mInit signature:\u001b[0m\n",
       "\u001b[0mtf\u001b[0m\u001b[1;33m.\u001b[0m\u001b[0mlosses\u001b[0m\u001b[1;33m.\u001b[0m\u001b[0mBinaryCrossentropy\u001b[0m\u001b[1;33m(\u001b[0m\u001b[1;33m\n",
       "\u001b[0m    \u001b[0mfrom_logits\u001b[0m\u001b[1;33m=\u001b[0m\u001b[1;32mFalse\u001b[0m\u001b[1;33m,\u001b[0m\u001b[1;33m\n",
       "\u001b[0m    \u001b[0mlabel_smoothing\u001b[0m\u001b[1;33m=\u001b[0m\u001b[1;36m0.0\u001b[0m\u001b[1;33m,\u001b[0m\u001b[1;33m\n",
       "\u001b[0m    \u001b[0maxis\u001b[0m\u001b[1;33m=\u001b[0m\u001b[1;33m-\u001b[0m\u001b[1;36m1\u001b[0m\u001b[1;33m,\u001b[0m\u001b[1;33m\n",
       "\u001b[0m    \u001b[0mreduction\u001b[0m\u001b[1;33m=\u001b[0m\u001b[1;34m'auto'\u001b[0m\u001b[1;33m,\u001b[0m\u001b[1;33m\n",
       "\u001b[0m    \u001b[0mname\u001b[0m\u001b[1;33m=\u001b[0m\u001b[1;34m'binary_crossentropy'\u001b[0m\u001b[1;33m,\u001b[0m\u001b[1;33m\n",
       "\u001b[0m\u001b[1;33m)\u001b[0m\u001b[1;33m\u001b[0m\u001b[1;33m\u001b[0m\u001b[0m\n",
       "\u001b[1;31mSource:\u001b[0m        \n",
       "\u001b[1;33m@\u001b[0m\u001b[0mkeras_export\u001b[0m\u001b[1;33m(\u001b[0m\u001b[1;34m'keras.losses.BinaryCrossentropy'\u001b[0m\u001b[1;33m)\u001b[0m\u001b[1;33m\n",
       "\u001b[0m\u001b[1;32mclass\u001b[0m \u001b[0mBinaryCrossentropy\u001b[0m\u001b[1;33m(\u001b[0m\u001b[0mLossFunctionWrapper\u001b[0m\u001b[1;33m)\u001b[0m\u001b[1;33m:\u001b[0m\u001b[1;33m\n",
       "\u001b[0m  \u001b[1;34m\"\"\"Computes the cross-entropy loss between true labels and predicted labels.\n",
       "\n",
       "  Use this cross-entropy loss for binary (0 or 1) classification applications.\n",
       "  The loss function requires the following inputs:\n",
       "\n",
       "  - `y_true` (true label): This is either 0 or 1.\n",
       "  - `y_pred` (predicted value): This is the model's prediction, i.e, a single\n",
       "    floating-point value which either represents a\n",
       "    [logit](https://en.wikipedia.org/wiki/Logit), (i.e, value in [-inf, inf]\n",
       "    when `from_logits=True`) or a probability (i.e, value in [0., 1.] when\n",
       "    `from_logits=False`).\n",
       "\n",
       "  **Recommended Usage:** (set `from_logits=True`)\n",
       "\n",
       "  With `tf.keras` API:\n",
       "\n",
       "  ```python\n",
       "  model.compile(\n",
       "    loss=tf.keras.losses.BinaryCrossentropy(from_logits=True),\n",
       "    ....\n",
       "  )\n",
       "  ```\n",
       "\n",
       "  As a standalone function:\n",
       "\n",
       "  >>> # Example 1: (batch_size = 1, number of samples = 4)\n",
       "  >>> y_true = [0, 1, 0, 0]\n",
       "  >>> y_pred = [-18.6, 0.51, 2.94, -12.8]\n",
       "  >>> bce = tf.keras.losses.BinaryCrossentropy(from_logits=True)\n",
       "  >>> bce(y_true, y_pred).numpy()\n",
       "  0.865\n",
       "\n",
       "  >>> # Example 2: (batch_size = 2, number of samples = 4)\n",
       "  >>> y_true = [[0, 1], [0, 0]]\n",
       "  >>> y_pred = [[-18.6, 0.51], [2.94, -12.8]]\n",
       "  >>> # Using default 'auto'/'sum_over_batch_size' reduction type.\n",
       "  >>> bce = tf.keras.losses.BinaryCrossentropy(from_logits=True)\n",
       "  >>> bce(y_true, y_pred).numpy()\n",
       "  0.865\n",
       "  >>> # Using 'sample_weight' attribute\n",
       "  >>> bce(y_true, y_pred, sample_weight=[0.8, 0.2]).numpy()\n",
       "  0.243\n",
       "  >>> # Using 'sum' reduction` type.\n",
       "  >>> bce = tf.keras.losses.BinaryCrossentropy(from_logits=True,\n",
       "  ...     reduction=tf.keras.losses.Reduction.SUM)\n",
       "  >>> bce(y_true, y_pred).numpy()\n",
       "  1.730\n",
       "  >>> # Using 'none' reduction type.\n",
       "  >>> bce = tf.keras.losses.BinaryCrossentropy(from_logits=True,\n",
       "  ...     reduction=tf.keras.losses.Reduction.NONE)\n",
       "  >>> bce(y_true, y_pred).numpy()\n",
       "  array([0.235, 1.496], dtype=float32)\n",
       "\n",
       "  **Default Usage:** (set `from_logits=False`)\n",
       "\n",
       "  >>> # Make the following updates to the above \"Recommended Usage\" section\n",
       "  >>> # 1. Set `from_logits=False`\n",
       "  >>> tf.keras.losses.BinaryCrossentropy() # OR ...('from_logits=False')\n",
       "  >>> # 2. Update `y_pred` to use probabilities instead of logits\n",
       "  >>> y_pred = [0.6, 0.3, 0.2, 0.8] # OR [[0.6, 0.3], [0.2, 0.8]]\n",
       "  \"\"\"\u001b[0m\u001b[1;33m\n",
       "\u001b[0m\u001b[1;33m\n",
       "\u001b[0m  \u001b[1;32mdef\u001b[0m \u001b[0m__init__\u001b[0m\u001b[1;33m(\u001b[0m\u001b[0mself\u001b[0m\u001b[1;33m,\u001b[0m\u001b[1;33m\n",
       "\u001b[0m               \u001b[0mfrom_logits\u001b[0m\u001b[1;33m=\u001b[0m\u001b[1;32mFalse\u001b[0m\u001b[1;33m,\u001b[0m\u001b[1;33m\n",
       "\u001b[0m               \u001b[0mlabel_smoothing\u001b[0m\u001b[1;33m=\u001b[0m\u001b[1;36m0.\u001b[0m\u001b[1;33m,\u001b[0m\u001b[1;33m\n",
       "\u001b[0m               \u001b[0maxis\u001b[0m\u001b[1;33m=\u001b[0m\u001b[1;33m-\u001b[0m\u001b[1;36m1\u001b[0m\u001b[1;33m,\u001b[0m\u001b[1;33m\n",
       "\u001b[0m               \u001b[0mreduction\u001b[0m\u001b[1;33m=\u001b[0m\u001b[0mlosses_utils\u001b[0m\u001b[1;33m.\u001b[0m\u001b[0mReductionV2\u001b[0m\u001b[1;33m.\u001b[0m\u001b[0mAUTO\u001b[0m\u001b[1;33m,\u001b[0m\u001b[1;33m\n",
       "\u001b[0m               \u001b[0mname\u001b[0m\u001b[1;33m=\u001b[0m\u001b[1;34m'binary_crossentropy'\u001b[0m\u001b[1;33m)\u001b[0m\u001b[1;33m:\u001b[0m\u001b[1;33m\n",
       "\u001b[0m    \u001b[1;34m\"\"\"Initializes `BinaryCrossentropy` instance.\n",
       "\n",
       "    Args:\n",
       "      from_logits: Whether to interpret `y_pred` as a tensor of\n",
       "        [logit](https://en.wikipedia.org/wiki/Logit) values. By default, we\n",
       "          assume that `y_pred` contains probabilities (i.e., values in [0, 1]).\n",
       "      label_smoothing: Float in [0, 1]. When 0, no smoothing occurs. When > 0,\n",
       "        we compute the loss between the predicted labels and a smoothed version\n",
       "        of the true labels, where the smoothing squeezes the labels towards 0.5.\n",
       "        Larger values of `label_smoothing` correspond to heavier smoothing.\n",
       "      axis: The axis along which to compute crossentropy (the features axis).\n",
       "        Defaults to -1.\n",
       "      reduction: Type of `tf.keras.losses.Reduction` to apply to\n",
       "        loss. Default value is `AUTO`. `AUTO` indicates that the reduction\n",
       "        option will be determined by the usage context. For almost all cases\n",
       "        this defaults to `SUM_OVER_BATCH_SIZE`. When used with\n",
       "        `tf.distribute.Strategy`, outside of built-in training loops such as\n",
       "        `tf.keras` `compile` and `fit`, using `AUTO` or `SUM_OVER_BATCH_SIZE`\n",
       "        will raise an error. Please see this custom training [tutorial](\n",
       "          https://www.tensorflow.org/tutorials/distribute/custom_training) for\n",
       "            more details.\n",
       "      name: Name for the op. Defaults to 'binary_crossentropy'.\n",
       "    \"\"\"\u001b[0m\u001b[1;33m\n",
       "\u001b[0m    \u001b[0msuper\u001b[0m\u001b[1;33m(\u001b[0m\u001b[1;33m)\u001b[0m\u001b[1;33m.\u001b[0m\u001b[0m__init__\u001b[0m\u001b[1;33m(\u001b[0m\u001b[1;33m\n",
       "\u001b[0m        \u001b[0mbinary_crossentropy\u001b[0m\u001b[1;33m,\u001b[0m\u001b[1;33m\n",
       "\u001b[0m        \u001b[0mname\u001b[0m\u001b[1;33m=\u001b[0m\u001b[0mname\u001b[0m\u001b[1;33m,\u001b[0m\u001b[1;33m\n",
       "\u001b[0m        \u001b[0mreduction\u001b[0m\u001b[1;33m=\u001b[0m\u001b[0mreduction\u001b[0m\u001b[1;33m,\u001b[0m\u001b[1;33m\n",
       "\u001b[0m        \u001b[0mfrom_logits\u001b[0m\u001b[1;33m=\u001b[0m\u001b[0mfrom_logits\u001b[0m\u001b[1;33m,\u001b[0m\u001b[1;33m\n",
       "\u001b[0m        \u001b[0mlabel_smoothing\u001b[0m\u001b[1;33m=\u001b[0m\u001b[0mlabel_smoothing\u001b[0m\u001b[1;33m,\u001b[0m\u001b[1;33m\n",
       "\u001b[0m        \u001b[0maxis\u001b[0m\u001b[1;33m=\u001b[0m\u001b[0maxis\u001b[0m\u001b[1;33m)\u001b[0m\u001b[1;33m\n",
       "\u001b[0m    \u001b[0mself\u001b[0m\u001b[1;33m.\u001b[0m\u001b[0mfrom_logits\u001b[0m \u001b[1;33m=\u001b[0m \u001b[0mfrom_logits\u001b[0m\u001b[1;33m\u001b[0m\u001b[1;33m\u001b[0m\u001b[0m\n",
       "\u001b[1;31mFile:\u001b[0m           c:\\users\\mdp\\anaconda3\\lib\\site-packages\\keras\\losses.py\n",
       "\u001b[1;31mType:\u001b[0m           type\n",
       "\u001b[1;31mSubclasses:\u001b[0m     \n"
      ]
     },
     "metadata": {},
     "output_type": "display_data"
    }
   ],
   "source": [
    "tf.losses.BinaryCrossentropy??"
   ]
  },
  {
   "cell_type": "code",
   "execution_count": 65,
   "id": "476c309a-3ab5-488e-859e-1ab0051ca063",
   "metadata": {},
   "outputs": [],
   "source": [
    "@tf.function\n",
    "def train_step(batch):\n",
    "    \n",
    "    with tf.GradientTape() as tape:     \n",
    "        X = batch[:2]\n",
    "        y = batch[2]\n",
    "        \n",
    "        yhat = siamese_model(X, training=True)\n",
    "        loss = binary_cross_loss(y, yhat)\n",
    "    print(loss)\n",
    "        \n",
    "    grad = tape.gradient(loss, siamese_model.trainable_variables)\n",
    "    \n",
    "    opt.apply_gradients(zip(grad, siamese_model.trainable_variables))\n",
    "    \n",
    "    return loss"
   ]
  },
  {
   "cell_type": "code",
   "execution_count": 66,
   "id": "cd78db52-79fe-4e84-95fa-558a8e006292",
   "metadata": {},
   "outputs": [],
   "source": [
    "def train(data, EPOCHS):\n",
    "    for epoch in range(1, EPOCHS+1):\n",
    "        print('\\n Epoch {}/{}'.format(epoch, EPOCHS))\n",
    "        progbar = tf.keras.utils.Progbar(len(data))\n",
    "        \n",
    "        for idx, batch in enumerate(data):\n",
    "            train_step(batch)\n",
    "            progbar.update(idx+1)\n",
    "        \n",
    "        if epoch % 10 == 0: \n",
    "            checkpoint.save(file_prefix=checkpoint_prefix)"
   ]
  },
  {
   "cell_type": "code",
   "execution_count": 67,
   "id": "e1ab0a1b-649b-4e40-8fc8-09b953f9bfa9",
   "metadata": {},
   "outputs": [],
   "source": [
    "EPOCHS = 40"
   ]
  },
  {
   "cell_type": "code",
   "execution_count": 68,
   "id": "d96a9590-5b36-4c81-9fae-5cfab00949a1",
   "metadata": {},
   "outputs": [
    {
     "name": "stdout",
     "output_type": "stream",
     "text": [
      "\n",
      " Epoch 1/40\n",
      "Tensor(\"binary_crossentropy/weighted_loss/value:0\", shape=(), dtype=float32)\n",
      "Tensor(\"binary_crossentropy/weighted_loss/value:0\", shape=(), dtype=float32)\n",
      "4/5 [=======================>......] - ETA: 24sTensor(\"binary_crossentropy/weighted_loss/value:0\", shape=(), dtype=float32)\n",
      "5/5 [==============================] - 108s 21s/step\n",
      "\n",
      " Epoch 2/40\n",
      "5/5 [==============================] - 109s 21s/step\n",
      "\n",
      " Epoch 3/40\n",
      "5/5 [==============================] - 112s 22s/step\n",
      "\n",
      " Epoch 4/40\n",
      "5/5 [==============================] - 111s 21s/step\n",
      "\n",
      " Epoch 5/40\n",
      "5/5 [==============================] - 109s 21s/step\n",
      "\n",
      " Epoch 6/40\n",
      "5/5 [==============================] - 109s 21s/step\n",
      "\n",
      " Epoch 7/40\n",
      "5/5 [==============================] - 110s 21s/step\n",
      "\n",
      " Epoch 8/40\n",
      "5/5 [==============================] - 110s 21s/step\n",
      "\n",
      " Epoch 9/40\n",
      "5/5 [==============================] - 109s 21s/step\n",
      "\n",
      " Epoch 10/40\n",
      "5/5 [==============================] - 110s 21s/step\n",
      "\n",
      " Epoch 11/40\n",
      "5/5 [==============================] - 114s 22s/step\n",
      "\n",
      " Epoch 12/40\n",
      "5/5 [==============================] - 109s 21s/step\n",
      "\n",
      " Epoch 13/40\n",
      "5/5 [==============================] - 109s 21s/step\n",
      "\n",
      " Epoch 14/40\n",
      "5/5 [==============================] - 112s 22s/step\n",
      "\n",
      " Epoch 15/40\n",
      "5/5 [==============================] - 107s 21s/step\n",
      "\n",
      " Epoch 16/40\n",
      "5/5 [==============================] - 112s 22s/step\n",
      "\n",
      " Epoch 17/40\n",
      "5/5 [==============================] - 113s 21s/step\n",
      "\n",
      " Epoch 18/40\n",
      "5/5 [==============================] - 110s 21s/step\n",
      "\n",
      " Epoch 19/40\n",
      "5/5 [==============================] - 110s 21s/step\n",
      "\n",
      " Epoch 20/40\n",
      "5/5 [==============================] - 108s 21s/step\n",
      "\n",
      " Epoch 21/40\n",
      "5/5 [==============================] - 109s 21s/step\n",
      "\n",
      " Epoch 22/40\n",
      "5/5 [==============================] - 108s 21s/step\n",
      "\n",
      " Epoch 23/40\n",
      "5/5 [==============================] - 108s 21s/step\n",
      "\n",
      " Epoch 24/40\n",
      "5/5 [==============================] - 107s 21s/step\n",
      "\n",
      " Epoch 25/40\n",
      "5/5 [==============================] - 108s 21s/step\n",
      "\n",
      " Epoch 26/40\n",
      "5/5 [==============================] - 111s 22s/step\n",
      "\n",
      " Epoch 27/40\n",
      "5/5 [==============================] - 109s 21s/step\n",
      "\n",
      " Epoch 28/40\n",
      "5/5 [==============================] - 109s 21s/step\n",
      "\n",
      " Epoch 29/40\n",
      "5/5 [==============================] - 108s 21s/step\n",
      "\n",
      " Epoch 30/40\n",
      "5/5 [==============================] - 108s 21s/step\n",
      "\n",
      " Epoch 31/40\n",
      "5/5 [==============================] - 108s 21s/step\n",
      "\n",
      " Epoch 32/40\n",
      "5/5 [==============================] - 109s 21s/step\n",
      "\n",
      " Epoch 33/40\n",
      "5/5 [==============================] - 113s 22s/step\n",
      "\n",
      " Epoch 34/40\n",
      "5/5 [==============================] - 108s 21s/step\n",
      "\n",
      " Epoch 35/40\n",
      "5/5 [==============================] - 108s 21s/step\n",
      "\n",
      " Epoch 36/40\n",
      "5/5 [==============================] - 109s 21s/step\n",
      "\n",
      " Epoch 37/40\n",
      "5/5 [==============================] - 110s 21s/step\n",
      "\n",
      " Epoch 38/40\n",
      "5/5 [==============================] - 108s 21s/step\n",
      "\n",
      " Epoch 39/40\n",
      "5/5 [==============================] - 108s 21s/step\n",
      "\n",
      " Epoch 40/40\n",
      "5/5 [==============================] - 109s 21s/step\n"
     ]
    }
   ],
   "source": [
    "train(train_data, EPOCHS)"
   ]
  },
  {
   "cell_type": "code",
   "execution_count": 70,
   "id": "e5bf8f86-6b87-4669-83cd-7c0877a70033",
   "metadata": {},
   "outputs": [],
   "source": [
    "from tensorflow.keras.metrics import Precision, Recall"
   ]
  },
  {
   "cell_type": "code",
   "execution_count": 71,
   "id": "46ea95d8-8af9-4c73-8038-a6559cc66d71",
   "metadata": {},
   "outputs": [],
   "source": [
    "test_input, test_val, y_true = test_data.as_numpy_iterator().next()"
   ]
  },
  {
   "cell_type": "code",
   "execution_count": 72,
   "id": "654272e5-f62f-4a39-9c21-4b0a3fd78509",
   "metadata": {},
   "outputs": [
    {
     "data": {
      "text/plain": [
       "array([[7.4041077e-06],\n",
       "       [2.3531914e-04],\n",
       "       [9.9955761e-01],\n",
       "       [2.1119293e-05],\n",
       "       [9.9999797e-01],\n",
       "       [5.3947697e-05],\n",
       "       [9.9854696e-01],\n",
       "       [3.4561577e-05],\n",
       "       [9.8042801e-07],\n",
       "       [3.1972373e-05],\n",
       "       [9.9948323e-01],\n",
       "       [9.9987841e-01],\n",
       "       [9.9998868e-01],\n",
       "       [9.9978697e-01],\n",
       "       [9.9994373e-01],\n",
       "       [7.6669455e-04]], dtype=float32)"
      ]
     },
     "execution_count": 72,
     "metadata": {},
     "output_type": "execute_result"
    }
   ],
   "source": [
    "y_hat = siamese_model.predict([test_input, test_val])\n",
    "y_hat"
   ]
  },
  {
   "cell_type": "code",
   "execution_count": 73,
   "id": "fd34cec7-2b93-4778-bcb2-fc2bb0e87af7",
   "metadata": {},
   "outputs": [
    {
     "data": {
      "text/plain": [
       "[0, 0, 1, 0, 1, 0, 1, 0, 0, 0, 1, 1, 1, 1, 1, 0]"
      ]
     },
     "execution_count": 73,
     "metadata": {},
     "output_type": "execute_result"
    }
   ],
   "source": [
    "[1 if prediction > 0.5 else 0 for prediction in y_hat ]"
   ]
  },
  {
   "cell_type": "code",
   "execution_count": 74,
   "id": "697b9e5c-b795-4e16-a006-9df8755cc49c",
   "metadata": {},
   "outputs": [
    {
     "data": {
      "text/plain": [
       "array([0., 0., 1., 0., 1., 0., 1., 0., 0., 0., 1., 1., 1., 1., 1., 0.],\n",
       "      dtype=float32)"
      ]
     },
     "execution_count": 74,
     "metadata": {},
     "output_type": "execute_result"
    }
   ],
   "source": [
    "y_true"
   ]
  },
  {
   "cell_type": "code",
   "execution_count": 75,
   "id": "62b79852-9d9a-41cc-833b-9e1b5e7165ce",
   "metadata": {},
   "outputs": [
    {
     "data": {
      "text/plain": [
       "1.0"
      ]
     },
     "execution_count": 75,
     "metadata": {},
     "output_type": "execute_result"
    }
   ],
   "source": [
    "# Creating a metric object \n",
    "m = Recall()\n",
    "\n",
    "# Calculating the recall value \n",
    "m.update_state(y_true, y_hat)\n",
    "\n",
    "# Return Recall Result\n",
    "m.result().numpy()"
   ]
  },
  {
   "cell_type": "code",
   "execution_count": 76,
   "id": "ae9c7cf6-359c-4046-b93a-5e89db373758",
   "metadata": {},
   "outputs": [
    {
     "data": {
      "text/plain": [
       "1.0"
      ]
     },
     "execution_count": 76,
     "metadata": {},
     "output_type": "execute_result"
    }
   ],
   "source": [
    "# Creating a metric object \n",
    "m = Precision()\n",
    "\n",
    "# Calculating the recall value \n",
    "m.update_state(y_true, y_hat)\n",
    "\n",
    "# Return Recall Result\n",
    "m.result().numpy()"
   ]
  },
  {
   "cell_type": "code",
   "execution_count": 84,
   "id": "03e9f796-6773-4512-bd73-a28c9b87e361",
   "metadata": {
    "tags": []
   },
   "outputs": [
    {
     "data": {
      "image/png": "[encoded data removed]",
      "text/plain": [
       "<Figure size 720x576 with 2 Axes>"
      ]
     },
     "metadata": {
      "needs_background": "light"
     },
     "output_type": "display_data"
    }
   ],
   "source": [
    "# Set plot size \n",
    "plt.figure(figsize=(10,8))\n",
    "\n",
    "# Set first subplot\n",
    "plt.subplot(1,2,1)\n",
    "plt.imshow(test_input[3])\n",
    "\n",
    "# Set second subplot\n",
    "plt.subplot(1,2,2)\n",
    "plt.imshow(test_val[6])\n",
    "\n",
    "# Renders cleanly\n",
    "plt.show()"
   ]
  },
  {
   "cell_type": "code",
   "execution_count": 85,
   "id": "15ccbb56-5023-4352-908e-905749f2994c",
   "metadata": {},
   "outputs": [
    {
     "name": "stdout",
     "output_type": "stream",
     "text": [
      "WARNING:tensorflow:Compiled the loaded model, but the compiled metrics have yet to be built. `model.compile_metrics` will be empty until you train or evaluate the model.\n"
     ]
    }
   ],
   "source": [
    "# Save model\n",
    "siamese_model.save('bestsiamesemodel.h5')"
   ]
  },
  {
   "cell_type": "code",
   "execution_count": 86,
   "id": "e02a02f8-9432-4a6d-8673-bc00b79f8e63",
   "metadata": {},
   "outputs": [
    {
     "data": {
      "text/plain": [
       "__main__.L1Dist"
      ]
     },
     "execution_count": 86,
     "metadata": {},
     "output_type": "execute_result"
    }
   ],
   "source": [
    "L1Dist"
   ]
  },
  {
   "cell_type": "code",
   "execution_count": 87,
   "id": "850fde06-5c21-4489-90ef-c5ff1e445f5a",
   "metadata": {},
   "outputs": [
    {
     "name": "stdout",
     "output_type": "stream",
     "text": [
      "WARNING:tensorflow:No training configuration found in the save file, so the model was *not* compiled. Compile it manually.\n"
     ]
    }
   ],
   "source": [
    "# Reload model \n",
    "model = tf.keras.models.load_model('bestsiamesemodel.h5', \n",
    "                                   custom_objects={'L1Dist':L1Dist, 'BinaryCrossentropy':tf.losses.BinaryCrossentropy})"
   ]
  },
  {
   "cell_type": "code",
   "execution_count": 88,
   "id": "3a189a33-8a66-4c4e-aca7-42d17b4ff709",
   "metadata": {},
   "outputs": [
    {
     "data": {
      "text/plain": [
       "array([[7.4041077e-06],\n",
       "       [2.3531914e-04],\n",
       "       [9.9955761e-01],\n",
       "       [2.1119293e-05],\n",
       "       [9.9999797e-01],\n",
       "       [5.3947697e-05],\n",
       "       [9.9854696e-01],\n",
       "       [3.4561577e-05],\n",
       "       [9.8042801e-07],\n",
       "       [3.1972373e-05],\n",
       "       [9.9948323e-01],\n",
       "       [9.9987841e-01],\n",
       "       [9.9998868e-01],\n",
       "       [9.9978697e-01],\n",
       "       [9.9994373e-01],\n",
       "       [7.6669455e-04]], dtype=float32)"
      ]
     },
     "execution_count": 88,
     "metadata": {},
     "output_type": "execute_result"
    }
   ],
   "source": [
    "# Make predictions with reloaded model\n",
    "model.predict([test_input, test_val])"
   ]
  },
  {
   "cell_type": "code",
   "execution_count": 89,
   "id": "bbe6c576-973d-4518-9ea1-b5ae08448c0f",
   "metadata": {},
   "outputs": [
    {
     "name": "stdout",
     "output_type": "stream",
     "text": [
      "Model: \"SiameseNetwork\"\n",
      "__________________________________________________________________________________________________\n",
      " Layer (type)                   Output Shape         Param #     Connected to                     \n",
      "==================================================================================================\n",
      " input_img (InputLayer)         [(None, 100, 100, 3  0           []                               \n",
      "                                )]                                                                \n",
      "                                                                                                  \n",
      " validation_img (InputLayer)    [(None, 100, 100, 3  0           []                               \n",
      "                                )]                                                                \n",
      "                                                                                                  \n",
      " embedding (Functional)         (None, 4096)         38960448    ['input_img[0][0]',              \n",
      "                                                                  'validation_img[0][0]']         \n",
      "                                                                                                  \n",
      " l1_dist_3 (L1Dist)             (None, 4096)         0           ['embedding[0][0]',              \n",
      "                                                                  'embedding[1][0]']              \n",
      "                                                                                                  \n",
      " dense_3 (Dense)                (None, 1)            4097        ['l1_dist_3[0][0]']              \n",
      "                                                                                                  \n",
      "==================================================================================================\n",
      "Total params: 38,964,545\n",
      "Trainable params: 38,964,545\n",
      "Non-trainable params: 0\n",
      "__________________________________________________________________________________________________\n"
     ]
    }
   ],
   "source": [
    "# View model summary\n",
    "model.summary()"
   ]
  },
  {
   "cell_type": "markdown",
   "id": "9a89901e-90e3-406c-82db-ddf82cbfdbfe",
   "metadata": {},
   "source": [
    "## TEST"
   ]
  },
  {
   "cell_type": "code",
   "execution_count": 96,
   "id": "ba9acb23-edc6-4160-bb6e-9eb0acfa4037",
   "metadata": {},
   "outputs": [
    {
     "data": {
      "text/plain": [
       "['7d7347d9-d7ae-11ec-97d1-aced5c6c25d6.jpg',\n",
       " '7e825f7d-d7ae-11ec-8356-aced5c6c25d6.jpg',\n",
       " '7e8949cd-d7ae-11ec-b490-aced5c6c25d6.jpg',\n",
       " '7eb63674-d7ae-11ec-8ac8-aced5c6c25d6.jpg',\n",
       " '7f11a800-d7ae-11ec-b692-aced5c6c25d6.jpg',\n",
       " '7f1da5d5-d7ae-11ec-a84f-aced5c6c25d6.jpg',\n",
       " '7f3333c0-d7ae-11ec-83dc-aced5c6c25d6.jpg',\n",
       " '7f3a68b7-d7ae-11ec-9061-aced5c6c25d6.jpg',\n",
       " '7f9927c7-d7ae-11ec-aa4c-aced5c6c25d6.jpg',\n",
       " '7fa05ac8-d7ae-11ec-a849-aced5c6c25d6.jpg',\n",
       " '7fe9fdb7-d7ae-11ec-95da-aced5c6c25d6.jpg',\n",
       " '803ac825-d7ae-11ec-b5f3-aced5c6c25d6.jpg']"
      ]
     },
     "execution_count": 96,
     "metadata": {},
     "output_type": "execute_result"
    }
   ],
   "source": [
    "os.listdir(os.path.join('application_data', 'verification_images'))"
   ]
  },
  {
   "cell_type": "code",
   "execution_count": 97,
   "id": "8501c3b4-1f2c-447e-b952-11be95779665",
   "metadata": {},
   "outputs": [
    {
     "data": {
      "text/plain": [
       "'application_data\\\\input_image\\\\input_image.jpg'"
      ]
     },
     "execution_count": 97,
     "metadata": {},
     "output_type": "execute_result"
    }
   ],
   "source": [
    "os.path.join('application_data', 'input_image', 'input_image.jpg')"
   ]
  },
  {
   "cell_type": "code",
   "execution_count": 98,
   "id": "f95563e7-597c-42cd-a792-81617c8ff0da",
   "metadata": {},
   "outputs": [
    {
     "name": "stdout",
     "output_type": "stream",
     "text": [
      "application_data\\verification_images\\7d7347d9-d7ae-11ec-97d1-aced5c6c25d6.jpg\n",
      "application_data\\verification_images\\7e825f7d-d7ae-11ec-8356-aced5c6c25d6.jpg\n",
      "application_data\\verification_images\\7e8949cd-d7ae-11ec-b490-aced5c6c25d6.jpg\n",
      "application_data\\verification_images\\7eb63674-d7ae-11ec-8ac8-aced5c6c25d6.jpg\n",
      "application_data\\verification_images\\7f11a800-d7ae-11ec-b692-aced5c6c25d6.jpg\n",
      "application_data\\verification_images\\7f1da5d5-d7ae-11ec-a84f-aced5c6c25d6.jpg\n",
      "application_data\\verification_images\\7f3333c0-d7ae-11ec-83dc-aced5c6c25d6.jpg\n",
      "application_data\\verification_images\\7f3a68b7-d7ae-11ec-9061-aced5c6c25d6.jpg\n",
      "application_data\\verification_images\\7f9927c7-d7ae-11ec-aa4c-aced5c6c25d6.jpg\n",
      "application_data\\verification_images\\7fa05ac8-d7ae-11ec-a849-aced5c6c25d6.jpg\n",
      "application_data\\verification_images\\7fe9fdb7-d7ae-11ec-95da-aced5c6c25d6.jpg\n",
      "application_data\\verification_images\\803ac825-d7ae-11ec-b5f3-aced5c6c25d6.jpg\n"
     ]
    }
   ],
   "source": [
    "for image in os.listdir(os.path.join('application_data', 'verification_images')):\n",
    "    validation_img = os.path.join('application_data', 'verification_images', image)\n",
    "    print(validation_img)"
   ]
  },
  {
   "cell_type": "code",
   "execution_count": 108,
   "id": "60540f3b-f5c9-4b40-b1fa-1c3efacfd8f8",
   "metadata": {},
   "outputs": [],
   "source": [
    "def verify(model, detection_threshold, verification_threshold):\n",
    "    results = []\n",
    "    for image in os.listdir(os.path.join('application_data', 'verification_images')):\n",
    "        input_img = preprocess(os.path.join('application_data', 'input_image', 'input_image.jpg'))\n",
    "        validation_img = preprocess(os.path.join('application_data', 'verification_images', image))\n",
    "        \n",
    "        result = model.predict(list(np.expand_dims([input_img, validation_img], axis=1)))\n",
    "        results.append(result)\n",
    "    \n",
    "    detection = np.sum(np.array(results) > detection_threshold)\n",
    "    \n",
    "    verification = detection / len(os.listdir(os.path.join('application_data', 'verification_images'))) \n",
    "    verified = verification > verification_threshold\n",
    "    \n",
    "    return results, verified"
   ]
  },
  {
   "cell_type": "markdown",
   "id": "06518a14-ce49-4aec-8648-88ed2d39a1f9",
   "metadata": {},
   "source": [
    "# OpenCV Verification"
   ]
  },
  {
   "cell_type": "code",
   "execution_count": 101,
   "id": "5642de2b-8bd6-4504-97d2-4a68af624ad5",
   "metadata": {},
   "outputs": [
    {
     "name": "stdout",
     "output_type": "stream",
     "text": [
      "False\n",
      "True\n",
      "False\n",
      "True\n",
      "True\n",
      "True\n",
      "False\n"
     ]
    }
   ],
   "source": [
    "cap = cv2.VideoCapture(0)\n",
    "while cap.isOpened():\n",
    "    ret, frame = cap.read()\n",
    "    frame = frame[120:120+250,200:200+250, :]\n",
    "    \n",
    "    cv2.imshow('Verification', frame)\n",
    "    \n",
    "    if cv2.waitKey(10) & 0xFF == ord('v'):\n",
    "        cv2.imwrite(os.path.join('application_data', 'input_image', 'input_image.jpg'), frame)\n",
    "        results, verified = verify(model, 0.9, 0.7)\n",
    "        print(verified)\n",
    "    \n",
    "    if cv2.waitKey(10) & 0xFF == ord('q'):\n",
    "        break\n",
    "cap.release()\n",
    "cv2.destroyAllWindows()"
   ]
  },
  {
   "cell_type": "code",
   "execution_count": 95,
   "id": "577ee417-f4f7-4b03-bedb-fb9584b42e80",
   "metadata": {},
   "outputs": [
    {
     "data": {
      "text/plain": [
       "21"
      ]
     },
     "execution_count": 95,
     "metadata": {},
     "output_type": "execute_result"
    }
   ],
   "source": [
    "np.sum(np.squeeze(results) > 0.9)"
   ]
  }
 ],
 "metadata": {
  "kernelspec": {
   "display_name": "Python 3 (ipykernel)",
   "language": "python",
   "name": "python3"
  },
  "language_info": {
   "codemirror_mode": {
    "name": "ipython",
    "version": 3
   },
   "file_extension": ".py",
   "mimetype": "text/x-python",
   "name": "python",
   "nbconvert_exporter": "python",
   "pygments_lexer": "ipython3",
   "version": "3.9.7"
  }
 },
 "nbformat": 4,
 "nbformat_minor": 5
}
